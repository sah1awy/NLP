{
 "cells": [
  {
   "cell_type": "code",
   "execution_count": 5,
   "id": "b1d20a6e-dc8a-4459-a558-891dab8f5884",
   "metadata": {},
   "outputs": [],
   "source": [
    "import pandas as pd\n",
    "import spacy\n",
    "from sklearn.metrics.pairwise import cosine_similarity\n",
    "from sklearn.naive_bayes import MultinomialNB\n",
    "from sklearn.neighbors import KNeighborsClassifier\n",
    "from sklearn.preprocessing import MinMaxScaler,StandardScaler\n",
    "from sklearn.pipeline import Pipeline\n",
    "import numpy as np \n",
    "import seaborn as sns\n",
    "from sklearn.model_selection import train_test_split\n",
    "from sklearn.metrics import accuracy_score,confusion_matrix,classification_report"
   ]
  },
  {
   "cell_type": "code",
   "execution_count": 7,
   "id": "6a7ca7fb-35fc-4bee-8f66-9bee49185ef8",
   "metadata": {},
   "outputs": [
    {
     "data": {
      "text/html": [
       "<div>\n",
       "<style scoped>\n",
       "    .dataframe tbody tr th:only-of-type {\n",
       "        vertical-align: middle;\n",
       "    }\n",
       "\n",
       "    .dataframe tbody tr th {\n",
       "        vertical-align: top;\n",
       "    }\n",
       "\n",
       "    .dataframe thead th {\n",
       "        text-align: right;\n",
       "    }\n",
       "</style>\n",
       "<table border=\"1\" class=\"dataframe\">\n",
       "  <thead>\n",
       "    <tr style=\"text-align: right;\">\n",
       "      <th></th>\n",
       "      <th>Text</th>\n",
       "      <th>label</th>\n",
       "    </tr>\n",
       "  </thead>\n",
       "  <tbody>\n",
       "    <tr>\n",
       "      <th>0</th>\n",
       "      <td>Top Trump Surrogate BRUTALLY Stabs Him In The...</td>\n",
       "      <td>Fake</td>\n",
       "    </tr>\n",
       "    <tr>\n",
       "      <th>1</th>\n",
       "      <td>U.S. conservative leader optimistic of common ...</td>\n",
       "      <td>Real</td>\n",
       "    </tr>\n",
       "    <tr>\n",
       "      <th>2</th>\n",
       "      <td>Trump proposes U.S. tax overhaul, stirs concer...</td>\n",
       "      <td>Real</td>\n",
       "    </tr>\n",
       "    <tr>\n",
       "      <th>3</th>\n",
       "      <td>Court Forces Ohio To Allow Millions Of Illega...</td>\n",
       "      <td>Fake</td>\n",
       "    </tr>\n",
       "    <tr>\n",
       "      <th>4</th>\n",
       "      <td>Democrats say Trump agrees to work on immigrat...</td>\n",
       "      <td>Real</td>\n",
       "    </tr>\n",
       "  </tbody>\n",
       "</table>\n",
       "</div>"
      ],
      "text/plain": [
       "                                                Text label\n",
       "0   Top Trump Surrogate BRUTALLY Stabs Him In The...  Fake\n",
       "1  U.S. conservative leader optimistic of common ...  Real\n",
       "2  Trump proposes U.S. tax overhaul, stirs concer...  Real\n",
       "3   Court Forces Ohio To Allow Millions Of Illega...  Fake\n",
       "4  Democrats say Trump agrees to work on immigrat...  Real"
      ]
     },
     "execution_count": 7,
     "metadata": {},
     "output_type": "execute_result"
    }
   ],
   "source": [
    "df = pd.read_csv(\"Fake_Real_Data.csv\")\n",
    "df.head()"
   ]
  },
  {
   "cell_type": "code",
   "execution_count": 8,
   "id": "dbb6975e-4a7c-4e0d-ba53-9383162972f4",
   "metadata": {},
   "outputs": [
    {
     "name": "stdout",
     "output_type": "stream",
     "text": [
      "<class 'pandas.core.frame.DataFrame'>\n",
      "RangeIndex: 9900 entries, 0 to 9899\n",
      "Data columns (total 2 columns):\n",
      " #   Column  Non-Null Count  Dtype \n",
      "---  ------  --------------  ----- \n",
      " 0   Text    9900 non-null   object\n",
      " 1   label   9900 non-null   object\n",
      "dtypes: object(2)\n",
      "memory usage: 154.8+ KB\n"
     ]
    }
   ],
   "source": [
    "df.info()"
   ]
  },
  {
   "cell_type": "code",
   "execution_count": 9,
   "id": "e02b7964-cd09-44f9-8b6e-7b8da954f4ee",
   "metadata": {},
   "outputs": [
    {
     "data": {
      "text/html": [
       "<div>\n",
       "<style scoped>\n",
       "    .dataframe tbody tr th:only-of-type {\n",
       "        vertical-align: middle;\n",
       "    }\n",
       "\n",
       "    .dataframe tbody tr th {\n",
       "        vertical-align: top;\n",
       "    }\n",
       "\n",
       "    .dataframe thead th {\n",
       "        text-align: right;\n",
       "    }\n",
       "</style>\n",
       "<table border=\"1\" class=\"dataframe\">\n",
       "  <thead>\n",
       "    <tr style=\"text-align: right;\">\n",
       "      <th></th>\n",
       "      <th>Text</th>\n",
       "      <th>label</th>\n",
       "    </tr>\n",
       "  </thead>\n",
       "  <tbody>\n",
       "    <tr>\n",
       "      <th>count</th>\n",
       "      <td>9900</td>\n",
       "      <td>9900</td>\n",
       "    </tr>\n",
       "    <tr>\n",
       "      <th>unique</th>\n",
       "      <td>9865</td>\n",
       "      <td>2</td>\n",
       "    </tr>\n",
       "    <tr>\n",
       "      <th>top</th>\n",
       "      <td>Highlights: The Trump presidency on April 13 a...</td>\n",
       "      <td>Fake</td>\n",
       "    </tr>\n",
       "    <tr>\n",
       "      <th>freq</th>\n",
       "      <td>8</td>\n",
       "      <td>5000</td>\n",
       "    </tr>\n",
       "  </tbody>\n",
       "</table>\n",
       "</div>"
      ],
      "text/plain": [
       "                                                     Text label\n",
       "count                                                9900  9900\n",
       "unique                                               9865     2\n",
       "top     Highlights: The Trump presidency on April 13 a...  Fake\n",
       "freq                                                    8  5000"
      ]
     },
     "execution_count": 9,
     "metadata": {},
     "output_type": "execute_result"
    }
   ],
   "source": [
    "df.describe()"
   ]
  },
  {
   "cell_type": "code",
   "execution_count": 10,
   "id": "59abe608-84d0-4d35-a326-b7cde284a943",
   "metadata": {},
   "outputs": [
    {
     "data": {
      "text/plain": [
       "(9900, 2)"
      ]
     },
     "execution_count": 10,
     "metadata": {},
     "output_type": "execute_result"
    }
   ],
   "source": [
    "df.shape"
   ]
  },
  {
   "cell_type": "code",
   "execution_count": 11,
   "id": "80fdef55-bad8-4458-956b-84afcbdfd267",
   "metadata": {},
   "outputs": [
    {
     "data": {
      "text/plain": [
       "Index(['Text', 'label'], dtype='object')"
      ]
     },
     "execution_count": 11,
     "metadata": {},
     "output_type": "execute_result"
    }
   ],
   "source": [
    "df.columns"
   ]
  },
  {
   "cell_type": "code",
   "execution_count": 12,
   "id": "fd5ad81f-0ac2-4f65-a678-7920d857ce39",
   "metadata": {},
   "outputs": [
    {
     "data": {
      "text/plain": [
       "RangeIndex(start=0, stop=9900, step=1)"
      ]
     },
     "execution_count": 12,
     "metadata": {},
     "output_type": "execute_result"
    }
   ],
   "source": [
    "df.index"
   ]
  },
  {
   "cell_type": "code",
   "execution_count": 13,
   "id": "d4825fa9-2bc4-4cee-96ff-8fce102764e9",
   "metadata": {},
   "outputs": [
    {
     "data": {
      "text/plain": [
       "Text     object\n",
       "label    object\n",
       "dtype: object"
      ]
     },
     "execution_count": 13,
     "metadata": {},
     "output_type": "execute_result"
    }
   ],
   "source": [
    "df.dtypes"
   ]
  },
  {
   "cell_type": "code",
   "execution_count": 14,
   "id": "81e65ebf-f03b-4852-842d-ddb9de25f29b",
   "metadata": {},
   "outputs": [],
   "source": [
    "df[\"label_num\"] = df[\"label\"].map({\"Real\":0,\"Fake\":1})"
   ]
  },
  {
   "cell_type": "code",
   "execution_count": 17,
   "id": "b54743d5-60d4-4fe7-83f3-e0c797af8497",
   "metadata": {},
   "outputs": [],
   "source": [
    "nlp = spacy.load(\"en_core_web_lg\")"
   ]
  },
  {
   "cell_type": "code",
   "execution_count": 20,
   "id": "bd122e3a-ec08-4fdf-a18f-1e709c639013",
   "metadata": {},
   "outputs": [],
   "source": [
    "df[\"vec\"] = df[\"Text\"].apply(lambda x: nlp(x).vector)"
   ]
  },
  {
   "cell_type": "code",
   "execution_count": 21,
   "id": "047d7c53-6cc4-4502-8cfe-77128866e1ea",
   "metadata": {},
   "outputs": [
    {
     "data": {
      "text/html": [
       "<div>\n",
       "<style scoped>\n",
       "    .dataframe tbody tr th:only-of-type {\n",
       "        vertical-align: middle;\n",
       "    }\n",
       "\n",
       "    .dataframe tbody tr th {\n",
       "        vertical-align: top;\n",
       "    }\n",
       "\n",
       "    .dataframe thead th {\n",
       "        text-align: right;\n",
       "    }\n",
       "</style>\n",
       "<table border=\"1\" class=\"dataframe\">\n",
       "  <thead>\n",
       "    <tr style=\"text-align: right;\">\n",
       "      <th></th>\n",
       "      <th>Text</th>\n",
       "      <th>label</th>\n",
       "      <th>label_num</th>\n",
       "      <th>vec</th>\n",
       "    </tr>\n",
       "  </thead>\n",
       "  <tbody>\n",
       "    <tr>\n",
       "      <th>0</th>\n",
       "      <td>Top Trump Surrogate BRUTALLY Stabs Him In The...</td>\n",
       "      <td>Fake</td>\n",
       "      <td>1</td>\n",
       "      <td>[-0.6759837, 1.4263071, -2.318466, -0.451093, ...</td>\n",
       "    </tr>\n",
       "    <tr>\n",
       "      <th>1</th>\n",
       "      <td>U.S. conservative leader optimistic of common ...</td>\n",
       "      <td>Real</td>\n",
       "      <td>0</td>\n",
       "      <td>[-1.8355803, 1.3101058, -2.4919677, 1.0268308,...</td>\n",
       "    </tr>\n",
       "    <tr>\n",
       "      <th>2</th>\n",
       "      <td>Trump proposes U.S. tax overhaul, stirs concer...</td>\n",
       "      <td>Real</td>\n",
       "      <td>0</td>\n",
       "      <td>[-1.9851209, 0.14389805, -2.4221718, 0.9133005...</td>\n",
       "    </tr>\n",
       "    <tr>\n",
       "      <th>3</th>\n",
       "      <td>Court Forces Ohio To Allow Millions Of Illega...</td>\n",
       "      <td>Fake</td>\n",
       "      <td>1</td>\n",
       "      <td>[-2.7812982, -0.16120885, -1.609772, 1.3624227...</td>\n",
       "    </tr>\n",
       "    <tr>\n",
       "      <th>4</th>\n",
       "      <td>Democrats say Trump agrees to work on immigrat...</td>\n",
       "      <td>Real</td>\n",
       "      <td>0</td>\n",
       "      <td>[-2.2010763, 0.9961637, -2.4088492, 1.128273, ...</td>\n",
       "    </tr>\n",
       "    <tr>\n",
       "      <th>...</th>\n",
       "      <td>...</td>\n",
       "      <td>...</td>\n",
       "      <td>...</td>\n",
       "      <td>...</td>\n",
       "    </tr>\n",
       "    <tr>\n",
       "      <th>9895</th>\n",
       "      <td>Wikileaks Admits To Screwing Up IMMENSELY Wit...</td>\n",
       "      <td>Fake</td>\n",
       "      <td>1</td>\n",
       "      <td>[-1.6682401, 0.78006977, -2.2337353, -0.159771...</td>\n",
       "    </tr>\n",
       "    <tr>\n",
       "      <th>9896</th>\n",
       "      <td>Trump consults Republican senators on Fed chie...</td>\n",
       "      <td>Real</td>\n",
       "      <td>0</td>\n",
       "      <td>[-1.9297235, 0.8007302, -1.8990824, 0.42668718...</td>\n",
       "    </tr>\n",
       "    <tr>\n",
       "      <th>9897</th>\n",
       "      <td>Trump lawyers say judge lacks jurisdiction for...</td>\n",
       "      <td>Real</td>\n",
       "      <td>0</td>\n",
       "      <td>[-1.5289013, 1.0250993, -1.9861357, 0.4278564,...</td>\n",
       "    </tr>\n",
       "    <tr>\n",
       "      <th>9898</th>\n",
       "      <td>WATCH: Right-Wing Pastor Falsely Credits Trum...</td>\n",
       "      <td>Fake</td>\n",
       "      <td>1</td>\n",
       "      <td>[-1.3928099, 0.7792715, -2.2072845, 0.13192406...</td>\n",
       "    </tr>\n",
       "    <tr>\n",
       "      <th>9899</th>\n",
       "      <td>Sean Spicer HILARIOUSLY Branded As Chickensh*...</td>\n",
       "      <td>Fake</td>\n",
       "      <td>1</td>\n",
       "      <td>[-1.5856593, -0.31769615, -0.9302766, 0.330447...</td>\n",
       "    </tr>\n",
       "  </tbody>\n",
       "</table>\n",
       "<p>9900 rows × 4 columns</p>\n",
       "</div>"
      ],
      "text/plain": [
       "                                                   Text label  label_num  \\\n",
       "0      Top Trump Surrogate BRUTALLY Stabs Him In The...  Fake          1   \n",
       "1     U.S. conservative leader optimistic of common ...  Real          0   \n",
       "2     Trump proposes U.S. tax overhaul, stirs concer...  Real          0   \n",
       "3      Court Forces Ohio To Allow Millions Of Illega...  Fake          1   \n",
       "4     Democrats say Trump agrees to work on immigrat...  Real          0   \n",
       "...                                                 ...   ...        ...   \n",
       "9895   Wikileaks Admits To Screwing Up IMMENSELY Wit...  Fake          1   \n",
       "9896  Trump consults Republican senators on Fed chie...  Real          0   \n",
       "9897  Trump lawyers say judge lacks jurisdiction for...  Real          0   \n",
       "9898   WATCH: Right-Wing Pastor Falsely Credits Trum...  Fake          1   \n",
       "9899   Sean Spicer HILARIOUSLY Branded As Chickensh*...  Fake          1   \n",
       "\n",
       "                                                    vec  \n",
       "0     [-0.6759837, 1.4263071, -2.318466, -0.451093, ...  \n",
       "1     [-1.8355803, 1.3101058, -2.4919677, 1.0268308,...  \n",
       "2     [-1.9851209, 0.14389805, -2.4221718, 0.9133005...  \n",
       "3     [-2.7812982, -0.16120885, -1.609772, 1.3624227...  \n",
       "4     [-2.2010763, 0.9961637, -2.4088492, 1.128273, ...  \n",
       "...                                                 ...  \n",
       "9895  [-1.6682401, 0.78006977, -2.2337353, -0.159771...  \n",
       "9896  [-1.9297235, 0.8007302, -1.8990824, 0.42668718...  \n",
       "9897  [-1.5289013, 1.0250993, -1.9861357, 0.4278564,...  \n",
       "9898  [-1.3928099, 0.7792715, -2.2072845, 0.13192406...  \n",
       "9899  [-1.5856593, -0.31769615, -0.9302766, 0.330447...  \n",
       "\n",
       "[9900 rows x 4 columns]"
      ]
     },
     "execution_count": 21,
     "metadata": {},
     "output_type": "execute_result"
    }
   ],
   "source": [
    "df"
   ]
  },
  {
   "cell_type": "code",
   "execution_count": 22,
   "id": "2987f0ef-8fe5-4e2d-9b96-22ebff982dab",
   "metadata": {},
   "outputs": [
    {
     "data": {
      "text/plain": [
       "label\n",
       "Fake    5000\n",
       "Real    4900\n",
       "Name: count, dtype: int64"
      ]
     },
     "execution_count": 22,
     "metadata": {},
     "output_type": "execute_result"
    }
   ],
   "source": [
    "df.label.value_counts()"
   ]
  },
  {
   "cell_type": "code",
   "execution_count": 25,
   "id": "bb9a9f98-ac4c-4e67-9274-ab67471841d9",
   "metadata": {},
   "outputs": [
    {
     "data": {
      "text/plain": [
       "(9900,)"
      ]
     },
     "execution_count": 25,
     "metadata": {},
     "output_type": "execute_result"
    }
   ],
   "source": [
    "df[\"vec\"].shape"
   ]
  },
  {
   "cell_type": "code",
   "execution_count": 26,
   "id": "1808a275-30ae-4731-aad0-924719b10e30",
   "metadata": {},
   "outputs": [],
   "source": [
    "x_train,x_test,y_train,y_test = train_test_split(df[\"vec\"].values,df[\"label_num\"],test_size=0.2)"
   ]
  },
  {
   "cell_type": "code",
   "execution_count": 31,
   "id": "d1ef520a-0390-498f-9dff-d642d73d4ee7",
   "metadata": {},
   "outputs": [],
   "source": [
    "x_train = np.stack(x_train)\n",
    "x_test = np.stack(x_test)"
   ]
  },
  {
   "cell_type": "code",
   "execution_count": 33,
   "id": "0b38aa47-d7b5-4639-b6d0-5ee8ec2193e3",
   "metadata": {},
   "outputs": [],
   "source": [
    "mx = MinMaxScaler(feature_range=(0,1))\n",
    "sc_x_train = mx.fit_transform(x_train)\n",
    "sc_x_test = mx.transform(x_test)"
   ]
  },
  {
   "cell_type": "code",
   "execution_count": 36,
   "id": "9ac20c5b-f443-495d-928f-fe305ad76ab3",
   "metadata": {},
   "outputs": [
    {
     "data": {
      "text/plain": [
       "array([[0.6216103 , 0.8250892 , 0.42576283, 0.46624267, 0.46646935,\n",
       "        0.6992041 , 0.5808909 , 0.76391083, 0.29124248, 0.4201812 ,\n",
       "        0.61945105, 0.44828522, 0.49437314, 0.49439198, 0.52292675,\n",
       "        0.4849766 , 0.39212427, 0.34064   , 0.42617756, 0.59030855,\n",
       "        0.5585915 , 0.55129975, 0.6910621 , 0.4502114 , 0.3972602 ,\n",
       "        0.28709596, 0.52565116, 0.73934203, 0.44505888, 0.40871978,\n",
       "        0.72762156, 0.5330418 , 0.50015986, 0.6736288 , 0.31008536,\n",
       "        0.58410025, 0.41674536, 0.582449  , 0.3438892 , 0.524724  ,\n",
       "        0.33444858, 0.5993226 , 0.5884028 , 0.4002438 , 0.47108704,\n",
       "        0.46160668, 0.42381725, 0.41736192, 0.23465231, 0.81960166,\n",
       "        0.69824684, 0.42865136, 0.6099558 , 0.4001261 , 0.5973952 ,\n",
       "        0.15911181, 0.8809644 , 0.26124796, 0.588917  , 0.46040198,\n",
       "        0.48138243, 0.45051262, 0.5279727 , 0.50786483, 0.6120822 ,\n",
       "        0.5663095 , 0.68751323, 0.37655   , 0.4657685 , 0.39275268,\n",
       "        0.74166274, 0.38152137, 0.53819084, 0.1099751 , 0.44110313,\n",
       "        0.3849479 , 0.29848444, 0.71945333, 0.23028463, 0.30534494,\n",
       "        0.23709404, 0.5219078 , 0.5233287 , 0.36638054, 0.6614623 ,\n",
       "        0.7166826 , 0.48570624, 0.293333  , 0.66063374, 0.3782757 ,\n",
       "        0.60883915, 0.37216708, 0.5931266 , 0.40527856, 0.6485123 ,\n",
       "        0.49279583, 0.41719687, 0.4766457 , 0.54252994, 0.5100072 ,\n",
       "        0.5403093 , 0.6857572 , 0.27280438, 0.48828697, 0.30865946,\n",
       "        0.53884494, 0.40887904, 0.53819346, 0.633034  , 0.29408276,\n",
       "        0.37179828, 0.6668824 , 0.69537485, 0.50550205, 0.7461108 ,\n",
       "        0.5382661 , 0.6157302 , 0.51568705, 0.25495   , 0.6360739 ,\n",
       "        0.57012296, 0.18254769, 0.49623322, 0.56938493, 0.5798163 ,\n",
       "        0.53406835, 0.64198387, 0.76050913, 0.54272455, 0.45458567,\n",
       "        0.6073025 , 0.32761392, 0.33605865, 0.3503549 , 0.32173598,\n",
       "        0.6826254 , 0.34367043, 0.5956871 , 0.7730222 , 0.49601978,\n",
       "        0.20070764, 0.260902  , 0.63924843, 0.68572843, 0.4688179 ,\n",
       "        0.43665403, 0.25959194, 0.6710621 , 0.44142815, 0.13188927,\n",
       "        0.55476284, 0.43095455, 0.5485181 , 0.43355697, 0.22986382,\n",
       "        0.5207599 , 0.46441558, 0.23554605, 0.08795738, 0.6812728 ,\n",
       "        0.5840948 , 0.21904904, 0.4224647 , 0.6696784 , 0.2738273 ,\n",
       "        0.29280573, 0.50019264, 0.5552554 , 0.22962922, 0.44288832,\n",
       "        0.7357323 , 0.6414741 , 0.783783  , 0.41237536, 0.67058295,\n",
       "        0.32781065, 0.22253087, 0.516047  , 0.64320266, 0.26234388,\n",
       "        0.6917934 , 0.563905  , 0.72098285, 0.6714721 , 0.37462273,\n",
       "        0.26139197, 0.7013302 , 0.5192188 , 0.6773344 , 0.58636296,\n",
       "        0.5638255 , 0.4191382 , 0.7049913 , 0.66911644, 0.30238405,\n",
       "        0.52229583, 0.57778245, 0.6813652 , 0.7024357 , 0.55982786,\n",
       "        0.5330974 , 0.46234995, 0.59156495, 0.30191845, 0.35686105,\n",
       "        0.7387748 , 0.5147649 , 0.13522802, 0.5444523 , 0.49051088,\n",
       "        0.36585373, 0.54320097, 0.67756367, 0.7679038 , 0.45788407,\n",
       "        0.6360977 , 0.25267285, 0.7365837 , 0.62575966, 0.4929572 ,\n",
       "        0.24561822, 0.44386598, 0.51039016, 0.63372624, 0.556759  ,\n",
       "        0.60981655, 0.5455246 , 0.6694631 , 0.40841132, 0.33167332,\n",
       "        0.60835564, 0.59363407, 0.29584253, 0.2985024 , 0.38442782,\n",
       "        0.59155464, 0.13509443, 0.39452273, 0.3256802 , 0.5108209 ,\n",
       "        0.3143485 , 0.7106719 , 0.87194836, 0.41725492, 0.61490566,\n",
       "        0.64679307, 0.59825283, 0.2588967 , 0.37415695, 0.6336943 ,\n",
       "        0.4086066 , 0.39980644, 0.2568434 , 0.54776764, 0.3628291 ,\n",
       "        0.6668707 , 0.35920966, 0.60722893, 0.40753224, 0.6031847 ,\n",
       "        0.39336592, 0.375089  , 0.59654105, 0.40341082, 0.58486176,\n",
       "        0.3465931 , 0.73811734, 0.7670086 , 0.49569553, 0.7206906 ,\n",
       "        0.3836025 , 0.57541037, 0.42299286, 0.37166443, 0.44999635,\n",
       "        0.5501665 , 0.5505739 , 0.6518544 , 0.1703183 , 0.7273917 ,\n",
       "        0.2227443 , 0.62855786, 0.49129292, 0.530223  , 0.68026793,\n",
       "        0.4423672 , 0.49706143, 0.8585611 , 0.5730903 , 0.16429058,\n",
       "        0.5978103 , 0.42338914, 0.15551108, 0.21811403, 0.3999318 ,\n",
       "        0.2431007 , 0.42352393, 0.6224626 , 0.4998623 , 0.41758403]],\n",
       "      dtype=float32)"
      ]
     },
     "execution_count": 36,
     "metadata": {},
     "output_type": "execute_result"
    }
   ],
   "source": [
    "sc_x_train[:1]"
   ]
  },
  {
   "cell_type": "code",
   "execution_count": 37,
   "id": "28e6ba6f-d405-47b0-b983-5a9fa2c4985d",
   "metadata": {},
   "outputs": [
    {
     "data": {
      "text/plain": [
       "array([[0.45970437, 0.44693035, 0.4735149 , 0.5088675 , 0.7567313 ,\n",
       "        0.45678854, 0.42990902, 0.7490912 , 0.55658734, 0.5388236 ,\n",
       "        0.63692874, 0.56892097, 0.39968574, 0.6673614 , 0.60997486,\n",
       "        0.5966992 , 0.41258565, 0.5867751 , 0.4732386 , 0.4353149 ,\n",
       "        0.6864517 , 0.58551985, 0.4234536 , 0.61919963, 0.4424544 ,\n",
       "        0.39585966, 0.40999687, 0.5097643 , 0.51111114, 0.49109483,\n",
       "        0.67650205, 0.4744325 , 0.3086384 , 0.5496087 , 0.44704157,\n",
       "        0.7885385 , 0.19967347, 0.67233825, 0.4824683 , 0.43089175,\n",
       "        0.4788871 , 0.64210355, 0.5288653 , 0.443118  , 0.53759   ,\n",
       "        0.48776096, 0.47564155, 0.4651907 , 0.4761736 , 0.61442995,\n",
       "        0.65164167, 0.59098613, 0.49847853, 0.27062833, 0.62105167,\n",
       "        0.40798572, 0.5039216 , 0.5139364 , 0.50826365, 0.37796894,\n",
       "        0.39055994, 0.45753908, 0.50401783, 0.509516  , 0.6151886 ,\n",
       "        0.5638579 , 0.5653829 , 0.43811142, 0.47878754, 0.60620296,\n",
       "        0.4460867 , 0.38304034, 0.3935408 , 0.46450394, 0.61622536,\n",
       "        0.44221228, 0.38150328, 0.65102696, 0.3928777 , 0.21496525,\n",
       "        0.21742481, 0.6994264 , 0.43934605, 0.50019544, 0.8125845 ,\n",
       "        0.6201852 , 0.31999606, 0.42616612, 0.6272166 , 0.46901044,\n",
       "        0.33615816, 0.5056572 , 0.58169174, 0.4940492 , 0.5360648 ,\n",
       "        0.3541295 , 0.48601604, 0.47556704, 0.4916687 , 0.6576117 ,\n",
       "        0.4839892 , 0.6764902 , 0.5375512 , 0.49762315, 0.44539905,\n",
       "        0.6210476 , 0.45119342, 0.4999795 , 0.5437275 , 0.36030018,\n",
       "        0.6078595 , 0.6010349 , 0.43979672, 0.52396214, 0.66317713,\n",
       "        0.5207471 , 0.41588593, 0.70564485, 0.4458153 , 0.4893912 ,\n",
       "        0.5466527 , 0.3097005 , 0.52629006, 0.5298467 , 0.4949958 ,\n",
       "        0.29994476, 0.6145828 , 0.4878494 , 0.59348774, 0.4871559 ,\n",
       "        0.53875506, 0.49778718, 0.49610016, 0.42999065, 0.4348632 ,\n",
       "        0.60971504, 0.49946526, 0.5462992 , 0.7231828 , 0.39135176,\n",
       "        0.23985773, 0.56897724, 0.33837903, 0.6205729 , 0.6133208 ,\n",
       "        0.59771997, 0.40181726, 0.46106732, 0.6663878 , 0.5370246 ,\n",
       "        0.6020195 , 0.32235494, 0.5838339 , 0.42664787, 0.35563204,\n",
       "        0.3377164 , 0.48949277, 0.43563533, 0.30882424, 0.411911  ,\n",
       "        0.39507365, 0.26845342, 0.5568923 , 0.6585823 , 0.48564124,\n",
       "        0.43417358, 0.5388726 , 0.5968444 , 0.48982465, 0.48556185,\n",
       "        0.506235  , 0.47044164, 0.6461998 , 0.5746258 , 0.5522732 ,\n",
       "        0.4356495 , 0.5360823 , 0.39484113, 0.54839724, 0.4156336 ,\n",
       "        0.5128091 , 0.5721248 , 0.48870203, 0.49914485, 0.45710623,\n",
       "        0.23679578, 0.6291624 , 0.6246557 , 0.479311  , 0.41427654,\n",
       "        0.5304374 , 0.35360163, 0.6795404 , 0.24114507, 0.393811  ,\n",
       "        0.793712  , 0.3287654 , 0.5900606 , 0.7290501 , 0.473325  ,\n",
       "        0.51443833, 0.42300183, 0.6817754 , 0.22054935, 0.6978169 ,\n",
       "        0.64712924, 0.31219298, 0.50800556, 0.509916  , 0.41339338,\n",
       "        0.48109055, 0.53744507, 0.4782238 , 0.7126838 , 0.49370712,\n",
       "        0.5483664 , 0.43885264, 0.4587524 , 0.57138705, 0.49837214,\n",
       "        0.30170393, 0.54570144, 0.5222268 , 0.6050531 , 0.30711782,\n",
       "        0.50685513, 0.61114115, 0.65870845, 0.58480084, 0.49843776,\n",
       "        0.68149006, 0.54173297, 0.46275958, 0.5536564 , 0.57299024,\n",
       "        0.7570465 , 0.28991544, 0.3433045 , 0.33087513, 0.4983249 ,\n",
       "        0.35197425, 0.5683846 , 0.6270871 , 0.44611856, 0.3463142 ,\n",
       "        0.6762856 , 0.32826415, 0.44133428, 0.43872473, 0.7140414 ,\n",
       "        0.5704336 , 0.2662992 , 0.19373673, 0.45560604, 0.3388543 ,\n",
       "        0.50248015, 0.73167586, 0.30984095, 0.40700155, 0.51129097,\n",
       "        0.4791069 , 0.692574  , 0.37700447, 0.44644737, 0.55890936,\n",
       "        0.33836445, 0.60962296, 0.57094455, 0.42924568, 0.6888902 ,\n",
       "        0.40289727, 0.44248477, 0.5298886 , 0.35871723, 0.50984395,\n",
       "        0.47889608, 0.70803934, 0.5181739 , 0.5818559 , 0.69817054,\n",
       "        0.54178494, 0.63894576, 0.6903559 , 0.47671008, 0.4517746 ,\n",
       "        0.43235928, 0.39201015, 0.6852594 , 0.4456601 , 0.52752554,\n",
       "        0.6721568 , 0.53638583, 0.37355945, 0.45086265, 0.3662636 ,\n",
       "        0.47747228, 0.47867042, 0.23116764, 0.5705681 , 0.52116704]],\n",
       "      dtype=float32)"
      ]
     },
     "execution_count": 37,
     "metadata": {},
     "output_type": "execute_result"
    }
   ],
   "source": [
    "sc_x_test[5:6]"
   ]
  },
  {
   "cell_type": "code",
   "execution_count": 38,
   "id": "68e7a87d-57e6-4611-b617-45b4deb9cd8e",
   "metadata": {},
   "outputs": [],
   "source": [
    "nb = MultinomialNB()\n",
    "nb.fit(sc_x_train,y_train)\n",
    "nb_pred = nb.predict(sc_x_test)"
   ]
  },
  {
   "cell_type": "code",
   "execution_count": 39,
   "id": "2c9e5d38-ca09-4f9c-abe1-fcef821d91ae",
   "metadata": {},
   "outputs": [
    {
     "name": "stdout",
     "output_type": "stream",
     "text": [
      "              precision    recall  f1-score   support\n",
      "\n",
      "           0       0.93      0.96      0.94       960\n",
      "           1       0.96      0.94      0.95      1020\n",
      "\n",
      "    accuracy                           0.94      1980\n",
      "   macro avg       0.94      0.95      0.94      1980\n",
      "weighted avg       0.95      0.94      0.94      1980\n",
      "\n"
     ]
    }
   ],
   "source": [
    "print(classification_report(y_test,nb_pred))"
   ]
  },
  {
   "cell_type": "code",
   "execution_count": 41,
   "id": "c10f5abb-73e3-4117-b3cd-9cd0101329f8",
   "metadata": {},
   "outputs": [
    {
     "data": {
      "text/plain": [
       "<Axes: >"
      ]
     },
     "execution_count": 41,
     "metadata": {},
     "output_type": "execute_result"
    },
    {
     "data": {
      "image/png": "[encoded data removed]",
      "text/plain": [
       "<Figure size 640x480 with 2 Axes>"
      ]
     },
     "metadata": {},
     "output_type": "display_data"
    }
   ],
   "source": [
    "cm = confusion_matrix(y_test,nb_pred)\n",
    "sns.heatmap(cm,annot=True,fmt='.3g')"
   ]
  },
  {
   "cell_type": "code",
   "execution_count": 43,
   "id": "9ff2efd7-f277-4bd4-9187-e93fcaffa96d",
   "metadata": {},
   "outputs": [],
   "source": [
    "from warnings import filterwarnings\n",
    "filterwarnings(\"ignore\")"
   ]
  },
  {
   "cell_type": "code",
   "execution_count": 44,
   "id": "c8365bd6-0726-4c5f-86bc-3dab57f148a3",
   "metadata": {},
   "outputs": [
    {
     "name": "stdout",
     "output_type": "stream",
     "text": [
      "              precision    recall  f1-score   support\n",
      "\n",
      "           0       0.99      0.99      0.99       960\n",
      "           1       1.00      0.99      0.99      1020\n",
      "\n",
      "    accuracy                           0.99      1980\n",
      "   macro avg       0.99      0.99      0.99      1980\n",
      "weighted avg       0.99      0.99      0.99      1980\n",
      "\n"
     ]
    }
   ],
   "source": [
    "knn = KNeighborsClassifier(n_neighbors=5,metric='euclidean')\n",
    "knn.fit(sc_x_train,y_train)\n",
    "knn_pred = knn.predict(sc_x_test)\n",
    "print(classification_report(y_test,knn_pred))"
   ]
  },
  {
   "cell_type": "code",
   "execution_count": 45,
   "id": "e2ace18c-399d-4022-a22d-f34603f46448",
   "metadata": {},
   "outputs": [
    {
     "data": {
      "text/plain": [
       "<Axes: >"
      ]
     },
     "execution_count": 45,
     "metadata": {},
     "output_type": "execute_result"
    },
    {
     "data": {
      "image/png": "[encoded data removed]",
      "text/plain": [
       "<Figure size 640x480 with 2 Axes>"
      ]
     },
     "metadata": {},
     "output_type": "display_data"
    }
   ],
   "source": [
    "cm = confusion_matrix(y_test,knn_pred)\n",
    "sns.heatmap(cm,annot=True,fmt='d')"
   ]
  }
 ],
 "metadata": {
  "kernelspec": {
   "display_name": "Python 3 (ipykernel)",
   "language": "python",
   "name": "python3"
  },
  "language_info": {
   "codemirror_mode": {
    "name": "ipython",
    "version": 3
   },
   "file_extension": ".py",
   "mimetype": "text/x-python",
   "name": "python",
   "nbconvert_exporter": "python",
   "pygments_lexer": "ipython3",
   "version": "3.9.18"
  }
 },
 "nbformat": 4,
 "nbformat_minor": 5
}
