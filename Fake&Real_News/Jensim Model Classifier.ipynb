{
 "cells": [
  {
   "cell_type": "code",
   "execution_count": 47,
   "id": "98685170-403c-49ac-8b95-2803e679e3f2",
   "metadata": {},
   "outputs": [],
   "source": [
    "import gensim.downloader as api \n",
    "import pandas as pd\n",
    "import numpy as np \n",
    "import spacy\n",
    "from sklearn.model_selection import train_test_split\n",
    "from sklearn.preprocessing import MinMaxScaler\n",
    "from sklearn.naive_bayes import MultinomialNB\n",
    "from sklearn.neighbors import KNeighborsClassifier\n",
    "from sklearn.ensemble import GradientBoostingClassifier\n",
    "from sklearn.metrics import accuracy_score,confusion_matrix,classification_report\n",
    "import seaborn as sns"
   ]
  },
  {
   "cell_type": "code",
   "execution_count": 2,
   "id": "89e003b9-537a-4399-9211-c1b04063ca43",
   "metadata": {
    "scrolled": true
   },
   "outputs": [
    {
     "name": "stdout",
     "output_type": "stream",
     "text": [
      "[==============------------------------------------] 29.3% 487.8/1662.8MB downloaded"
     ]
    },
    {
     "name": "stderr",
     "output_type": "stream",
     "text": [
      "IOPub message rate exceeded.\n",
      "The Jupyter server will temporarily stop sending output\n",
      "to the client in order to avoid crashing it.\n",
      "To change this limit, set the config variable\n",
      "`--ServerApp.iopub_msg_rate_limit`.\n",
      "\n",
      "Current values:\n",
      "ServerApp.iopub_msg_rate_limit=1000.0 (msgs/sec)\n",
      "ServerApp.rate_limit_window=3.0 (secs)\n",
      "\n"
     ]
    },
    {
     "name": "stdout",
     "output_type": "stream",
     "text": [
      "[=========================================---------] 82.8% 1376.8/1662.8MB downloaded"
     ]
    },
    {
     "name": "stderr",
     "output_type": "stream",
     "text": [
      "IOPub message rate exceeded.\n",
      "The Jupyter server will temporarily stop sending output\n",
      "to the client in order to avoid crashing it.\n",
      "To change this limit, set the config variable\n",
      "`--ServerApp.iopub_msg_rate_limit`.\n",
      "\n",
      "Current values:\n",
      "ServerApp.iopub_msg_rate_limit=1000.0 (msgs/sec)\n",
      "ServerApp.rate_limit_window=3.0 (secs)\n",
      "\n"
     ]
    },
    {
     "name": "stdout",
     "output_type": "stream",
     "text": [
      "[================================================--] 97.6% 1622.9/1662.8MB downloaded"
     ]
    }
   ],
   "source": [
    " xv = api.load(\"word2vec-google-news-300\")"
   ]
  },
  {
   "cell_type": "code",
   "execution_count": 3,
   "id": "181aaec1-a80b-4e70-aab7-99ee89125f29",
   "metadata": {},
   "outputs": [
    {
     "data": {
      "text/plain": [
       "0.72915095"
      ]
     },
     "execution_count": 3,
     "metadata": {},
     "output_type": "execute_result"
    }
   ],
   "source": [
    "xv.similarity(w1='good',w2='great')"
   ]
  },
  {
   "cell_type": "code",
   "execution_count": 4,
   "id": "933148df-b713-47f5-b48d-c0ac4e6200fa",
   "metadata": {},
   "outputs": [
    {
     "data": {
      "text/plain": [
       "[('great', 0.7291510105133057),\n",
       " ('bad', 0.7190051078796387),\n",
       " ('terrific', 0.6889115571975708),\n",
       " ('decent', 0.6837348341941833),\n",
       " ('nice', 0.6836092472076416),\n",
       " ('excellent', 0.6442928910255432),\n",
       " ('fantastic', 0.6407778263092041),\n",
       " ('better', 0.6120728850364685),\n",
       " ('solid', 0.5806034207344055),\n",
       " ('lousy', 0.5764203071594238)]"
      ]
     },
     "execution_count": 4,
     "metadata": {},
     "output_type": "execute_result"
    }
   ],
   "source": [
    "xv.most_similar(\"good\")"
   ]
  },
  {
   "cell_type": "code",
   "execution_count": 6,
   "id": "b6114e5f-6c0f-45f2-9d74-81b6591af3cc",
   "metadata": {},
   "outputs": [
    {
     "data": {
      "text/plain": [
       "'cat'"
      ]
     },
     "execution_count": 6,
     "metadata": {},
     "output_type": "execute_result"
    }
   ],
   "source": [
    "xv.doesnt_match([\"cat\",\"google\",\"facebook\",\"amazon\"])"
   ]
  },
  {
   "cell_type": "code",
   "execution_count": 7,
   "id": "1335040b-8373-4dca-8f3b-14548cc96c06",
   "metadata": {},
   "outputs": [
    {
     "data": {
      "text/plain": [
       "array([ 0.04052734,  0.0625    , -0.01745605,  0.07861328,  0.03271484,\n",
       "       -0.01263428,  0.00964355,  0.12353516, -0.02148438,  0.15234375,\n",
       "       -0.05834961, -0.10644531,  0.02124023,  0.13574219, -0.13183594,\n",
       "        0.17675781,  0.27148438,  0.13769531, -0.17382812, -0.14160156,\n",
       "       -0.03076172,  0.19628906, -0.03295898,  0.125     ,  0.25390625,\n",
       "        0.12695312, -0.15234375,  0.03198242,  0.01135254, -0.01361084,\n",
       "       -0.12890625,  0.01019287,  0.23925781, -0.08447266,  0.140625  ,\n",
       "        0.13085938, -0.04516602,  0.06494141,  0.02539062,  0.05615234,\n",
       "        0.24609375, -0.20507812,  0.23632812, -0.00860596, -0.02294922,\n",
       "        0.05078125,  0.10644531, -0.03564453,  0.08740234, -0.05712891,\n",
       "        0.08496094,  0.23535156, -0.10107422, -0.03564453, -0.04736328,\n",
       "        0.04736328, -0.14550781, -0.10986328,  0.14746094, -0.23242188,\n",
       "       -0.07275391,  0.19628906, -0.37890625, -0.07226562,  0.04833984,\n",
       "        0.11914062,  0.06103516, -0.12109375, -0.27929688,  0.05200195,\n",
       "        0.04907227, -0.02709961,  0.1328125 ,  0.03369141, -0.32226562,\n",
       "        0.04223633, -0.08789062,  0.15429688,  0.09472656,  0.10351562,\n",
       "       -0.02856445,  0.00128174, -0.00427246,  0.24609375, -0.05957031,\n",
       "       -0.16894531, -0.09619141,  0.16796875,  0.0133667 ,  0.04882812,\n",
       "        0.08349609,  0.06347656, -0.00872803, -0.08642578, -0.03857422,\n",
       "       -0.08251953,  0.15722656,  0.22753906, -0.00762939, -0.19921875,\n",
       "       -0.06347656,  0.12792969, -0.06347656, -0.03027344,  0.0456543 ,\n",
       "        0.06298828, -0.02526855, -0.06787109, -0.01141357, -0.13574219,\n",
       "        0.02978516,  0.10400391, -0.15917969, -0.08447266,  0.29882812,\n",
       "       -0.12597656,  0.11425781, -0.08105469, -0.09082031, -0.07910156,\n",
       "       -0.11181641, -0.09619141,  0.02770996,  0.14257812, -0.26757812,\n",
       "       -0.09375   ,  0.03979492, -0.17871094, -0.02819824,  0.01464844,\n",
       "       -0.31640625, -0.24511719, -0.08935547,  0.09716797, -0.00964355,\n",
       "       -0.14746094,  0.15234375,  0.21582031,  0.05981445,  0.23828125,\n",
       "       -0.05151367,  0.14941406,  0.13574219, -0.03222656, -0.265625  ,\n",
       "       -0.11181641, -0.23046875, -0.140625  ,  0.25585938, -0.15429688,\n",
       "        0.1796875 ,  0.15527344, -0.21582031,  0.36328125, -0.1015625 ,\n",
       "        0.04980469,  0.07177734, -0.14550781, -0.03198242,  0.00952148,\n",
       "       -0.12109375,  0.12109375,  0.09765625,  0.07763672,  0.3203125 ,\n",
       "       -0.22265625, -0.08447266, -0.10742188,  0.11279297, -0.13867188,\n",
       "       -0.21875   ,  0.0145874 ,  0.13378906, -0.00921631,  0.00921631,\n",
       "        0.16894531,  0.16894531, -0.078125  , -0.00665283,  0.03735352,\n",
       "       -0.10888672, -0.25390625,  0.01452637, -0.09716797, -0.19628906,\n",
       "       -0.01782227, -0.28125   , -0.02050781, -0.02905273, -0.09375   ,\n",
       "       -0.17675781,  0.21484375, -0.05224609, -0.11572266, -0.01977539,\n",
       "       -0.10839844, -0.01342773, -0.15332031, -0.140625  , -0.11816406,\n",
       "        0.09228516,  0.109375  ,  0.05761719, -0.03466797,  0.03564453,\n",
       "       -0.12011719, -0.14257812, -0.00072479, -0.06689453,  0.11914062,\n",
       "       -0.10449219,  0.07861328, -0.12792969,  0.09570312, -0.00817871,\n",
       "        0.07128906,  0.20703125, -0.03149414,  0.09570312,  0.17285156,\n",
       "       -0.07958984, -0.02429199, -0.07519531, -0.07568359,  0.09521484,\n",
       "       -0.06494141, -0.00689697, -0.09033203,  0.03100586,  0.19921875,\n",
       "       -0.10644531, -0.11474609,  0.18652344, -0.05078125,  0.0859375 ,\n",
       "        0.00128937, -0.18847656, -0.20019531, -0.02832031,  0.11328125,\n",
       "        0.25976562,  0.22070312,  0.04101562,  0.00171661,  0.07568359,\n",
       "       -0.01196289,  0.0177002 , -0.05883789, -0.25976562, -0.234375  ,\n",
       "       -0.04956055,  0.25976562,  0.15332031,  0.15136719,  0.08300781,\n",
       "       -0.15527344,  0.04931641,  0.07519531, -0.05078125, -0.1328125 ,\n",
       "       -0.13574219,  0.04199219, -0.14257812,  0.02099609,  0.07861328,\n",
       "        0.01611328,  0.01623535, -0.21582031,  0.01599121, -0.04882812,\n",
       "       -0.02404785,  0.13476562,  0.08496094, -0.01196289,  0.10009766,\n",
       "       -0.13867188,  0.08056641, -0.22070312, -0.12011719,  0.18945312,\n",
       "        0.05444336, -0.05053711,  0.00147247,  0.14160156, -0.06494141,\n",
       "       -0.05566406, -0.09033203, -0.0267334 , -0.10498047,  0.02416992,\n",
       "        0.01422119,  0.1875    , -0.16503906,  0.01538086, -0.04174805,\n",
       "        0.05444336, -0.01184082, -0.15625   ,  0.00193024, -0.06982422],\n",
       "      dtype=float32)"
      ]
     },
     "execution_count": 7,
     "metadata": {},
     "output_type": "execute_result"
    }
   ],
   "source": [
    "xv[\"good\"]"
   ]
  },
  {
   "cell_type": "code",
   "execution_count": 8,
   "id": "50299894-79ee-4ea1-bf59-597010ad6166",
   "metadata": {},
   "outputs": [
    {
     "data": {
      "text/html": [
       "<div>\n",
       "<style scoped>\n",
       "    .dataframe tbody tr th:only-of-type {\n",
       "        vertical-align: middle;\n",
       "    }\n",
       "\n",
       "    .dataframe tbody tr th {\n",
       "        vertical-align: top;\n",
       "    }\n",
       "\n",
       "    .dataframe thead th {\n",
       "        text-align: right;\n",
       "    }\n",
       "</style>\n",
       "<table border=\"1\" class=\"dataframe\">\n",
       "  <thead>\n",
       "    <tr style=\"text-align: right;\">\n",
       "      <th></th>\n",
       "      <th>Text</th>\n",
       "      <th>label</th>\n",
       "    </tr>\n",
       "  </thead>\n",
       "  <tbody>\n",
       "    <tr>\n",
       "      <th>0</th>\n",
       "      <td>Top Trump Surrogate BRUTALLY Stabs Him In The...</td>\n",
       "      <td>Fake</td>\n",
       "    </tr>\n",
       "    <tr>\n",
       "      <th>1</th>\n",
       "      <td>U.S. conservative leader optimistic of common ...</td>\n",
       "      <td>Real</td>\n",
       "    </tr>\n",
       "    <tr>\n",
       "      <th>2</th>\n",
       "      <td>Trump proposes U.S. tax overhaul, stirs concer...</td>\n",
       "      <td>Real</td>\n",
       "    </tr>\n",
       "    <tr>\n",
       "      <th>3</th>\n",
       "      <td>Court Forces Ohio To Allow Millions Of Illega...</td>\n",
       "      <td>Fake</td>\n",
       "    </tr>\n",
       "    <tr>\n",
       "      <th>4</th>\n",
       "      <td>Democrats say Trump agrees to work on immigrat...</td>\n",
       "      <td>Real</td>\n",
       "    </tr>\n",
       "  </tbody>\n",
       "</table>\n",
       "</div>"
      ],
      "text/plain": [
       "                                                Text label\n",
       "0   Top Trump Surrogate BRUTALLY Stabs Him In The...  Fake\n",
       "1  U.S. conservative leader optimistic of common ...  Real\n",
       "2  Trump proposes U.S. tax overhaul, stirs concer...  Real\n",
       "3   Court Forces Ohio To Allow Millions Of Illega...  Fake\n",
       "4  Democrats say Trump agrees to work on immigrat...  Real"
      ]
     },
     "execution_count": 8,
     "metadata": {},
     "output_type": "execute_result"
    }
   ],
   "source": [
    "df = pd.read_csv(\"Fake_Real_Data.csv\")\n",
    "df.head()"
   ]
  },
  {
   "cell_type": "code",
   "execution_count": 9,
   "id": "e653761c-672d-4253-a6bf-8d088840155b",
   "metadata": {},
   "outputs": [
    {
     "name": "stdout",
     "output_type": "stream",
     "text": [
      "<class 'pandas.core.frame.DataFrame'>\n",
      "RangeIndex: 9900 entries, 0 to 9899\n",
      "Data columns (total 2 columns):\n",
      " #   Column  Non-Null Count  Dtype \n",
      "---  ------  --------------  ----- \n",
      " 0   Text    9900 non-null   object\n",
      " 1   label   9900 non-null   object\n",
      "dtypes: object(2)\n",
      "memory usage: 154.8+ KB\n"
     ]
    }
   ],
   "source": [
    "df.info()"
   ]
  },
  {
   "cell_type": "code",
   "execution_count": 11,
   "id": "e705d242-2ac7-4c51-8eb2-40cc50f8be6f",
   "metadata": {},
   "outputs": [
    {
     "data": {
      "text/html": [
       "<div>\n",
       "<style scoped>\n",
       "    .dataframe tbody tr th:only-of-type {\n",
       "        vertical-align: middle;\n",
       "    }\n",
       "\n",
       "    .dataframe tbody tr th {\n",
       "        vertical-align: top;\n",
       "    }\n",
       "\n",
       "    .dataframe thead th {\n",
       "        text-align: right;\n",
       "    }\n",
       "</style>\n",
       "<table border=\"1\" class=\"dataframe\">\n",
       "  <thead>\n",
       "    <tr style=\"text-align: right;\">\n",
       "      <th></th>\n",
       "      <th>Text</th>\n",
       "      <th>label</th>\n",
       "    </tr>\n",
       "  </thead>\n",
       "  <tbody>\n",
       "    <tr>\n",
       "      <th>count</th>\n",
       "      <td>9900</td>\n",
       "      <td>9900</td>\n",
       "    </tr>\n",
       "    <tr>\n",
       "      <th>unique</th>\n",
       "      <td>9865</td>\n",
       "      <td>2</td>\n",
       "    </tr>\n",
       "    <tr>\n",
       "      <th>top</th>\n",
       "      <td>Highlights: The Trump presidency on April 13 a...</td>\n",
       "      <td>Fake</td>\n",
       "    </tr>\n",
       "    <tr>\n",
       "      <th>freq</th>\n",
       "      <td>8</td>\n",
       "      <td>5000</td>\n",
       "    </tr>\n",
       "  </tbody>\n",
       "</table>\n",
       "</div>"
      ],
      "text/plain": [
       "                                                     Text label\n",
       "count                                                9900  9900\n",
       "unique                                               9865     2\n",
       "top     Highlights: The Trump presidency on April 13 a...  Fake\n",
       "freq                                                    8  5000"
      ]
     },
     "execution_count": 11,
     "metadata": {},
     "output_type": "execute_result"
    }
   ],
   "source": [
    "df.describe()"
   ]
  },
  {
   "cell_type": "code",
   "execution_count": 12,
   "id": "9096a8a4-60cf-4151-b470-4a2aead48378",
   "metadata": {},
   "outputs": [
    {
     "data": {
      "text/plain": [
       "(9900, 2)"
      ]
     },
     "execution_count": 12,
     "metadata": {},
     "output_type": "execute_result"
    }
   ],
   "source": [
    "df.shape"
   ]
  },
  {
   "cell_type": "code",
   "execution_count": 14,
   "id": "774e6239-4512-46fb-b7b9-2d8df68ce5ef",
   "metadata": {},
   "outputs": [
    {
     "data": {
      "text/plain": [
       "Text     object\n",
       "label    object\n",
       "dtype: object"
      ]
     },
     "execution_count": 14,
     "metadata": {},
     "output_type": "execute_result"
    }
   ],
   "source": [
    "df.dtypes"
   ]
  },
  {
   "cell_type": "code",
   "execution_count": 15,
   "id": "5cbe594b-64d5-4d47-9e52-5d2eeaef9f07",
   "metadata": {},
   "outputs": [
    {
     "data": {
      "text/plain": [
       "label\n",
       "Fake    5000\n",
       "Real    4900\n",
       "Name: count, dtype: int64"
      ]
     },
     "execution_count": 15,
     "metadata": {},
     "output_type": "execute_result"
    }
   ],
   "source": [
    "df.label.value_counts()"
   ]
  },
  {
   "cell_type": "code",
   "execution_count": 18,
   "id": "16a0beb4-0634-436c-98fd-b066fbe20167",
   "metadata": {},
   "outputs": [],
   "source": [
    "df[\"label\"] = df[\"label\"].map({\"Fake\":0,\"Real\":1})"
   ]
  },
  {
   "cell_type": "code",
   "execution_count": 19,
   "id": "944f6328-ffaf-486c-8936-80d17a4184a6",
   "metadata": {},
   "outputs": [
    {
     "data": {
      "text/html": [
       "<div>\n",
       "<style scoped>\n",
       "    .dataframe tbody tr th:only-of-type {\n",
       "        vertical-align: middle;\n",
       "    }\n",
       "\n",
       "    .dataframe tbody tr th {\n",
       "        vertical-align: top;\n",
       "    }\n",
       "\n",
       "    .dataframe thead th {\n",
       "        text-align: right;\n",
       "    }\n",
       "</style>\n",
       "<table border=\"1\" class=\"dataframe\">\n",
       "  <thead>\n",
       "    <tr style=\"text-align: right;\">\n",
       "      <th></th>\n",
       "      <th>Text</th>\n",
       "      <th>label</th>\n",
       "    </tr>\n",
       "  </thead>\n",
       "  <tbody>\n",
       "    <tr>\n",
       "      <th>0</th>\n",
       "      <td>Top Trump Surrogate BRUTALLY Stabs Him In The...</td>\n",
       "      <td>0</td>\n",
       "    </tr>\n",
       "    <tr>\n",
       "      <th>1</th>\n",
       "      <td>U.S. conservative leader optimistic of common ...</td>\n",
       "      <td>1</td>\n",
       "    </tr>\n",
       "    <tr>\n",
       "      <th>2</th>\n",
       "      <td>Trump proposes U.S. tax overhaul, stirs concer...</td>\n",
       "      <td>1</td>\n",
       "    </tr>\n",
       "    <tr>\n",
       "      <th>3</th>\n",
       "      <td>Court Forces Ohio To Allow Millions Of Illega...</td>\n",
       "      <td>0</td>\n",
       "    </tr>\n",
       "    <tr>\n",
       "      <th>4</th>\n",
       "      <td>Democrats say Trump agrees to work on immigrat...</td>\n",
       "      <td>1</td>\n",
       "    </tr>\n",
       "  </tbody>\n",
       "</table>\n",
       "</div>"
      ],
      "text/plain": [
       "                                                Text  label\n",
       "0   Top Trump Surrogate BRUTALLY Stabs Him In The...      0\n",
       "1  U.S. conservative leader optimistic of common ...      1\n",
       "2  Trump proposes U.S. tax overhaul, stirs concer...      1\n",
       "3   Court Forces Ohio To Allow Millions Of Illega...      0\n",
       "4  Democrats say Trump agrees to work on immigrat...      1"
      ]
     },
     "execution_count": 19,
     "metadata": {},
     "output_type": "execute_result"
    }
   ],
   "source": [
    "df.head()"
   ]
  },
  {
   "cell_type": "code",
   "execution_count": 21,
   "id": "7290c32d-3a96-44b6-9156-ee4a318142ce",
   "metadata": {},
   "outputs": [
    {
     "data": {
      "text/plain": [
       "['tok2vec', 'tagger', 'parser', 'attribute_ruler', 'lemmatizer', 'ner']"
      ]
     },
     "execution_count": 21,
     "metadata": {},
     "output_type": "execute_result"
    }
   ],
   "source": [
    "nlp = spacy.load(\"en_core_web_lg\")\n",
    "nlp.pipe_names"
   ]
  },
  {
   "cell_type": "code",
   "execution_count": 26,
   "id": "777ae554-986f-4ddc-9e41-3f4adb2a1b89",
   "metadata": {},
   "outputs": [],
   "source": [
    "def vec(text):\n",
    "    w = []\n",
    "    doc = nlp(text)\n",
    "    for token in doc:\n",
    "        if token.is_punct or token.is_stop:\n",
    "            continue\n",
    "        w.append(token.lemma_)\n",
    "\n",
    "    return xv.get_mean_vector(w)"
   ]
  },
  {
   "cell_type": "code",
   "execution_count": 28,
   "id": "2dadb17c-58bf-4f97-9a92-5ae8b11b4433",
   "metadata": {},
   "outputs": [
    {
     "data": {
      "text/plain": [
       "array([ 0.00235079, -0.00284596, -0.03638233], dtype=float32)"
      ]
     },
     "execution_count": 28,
     "metadata": {},
     "output_type": "execute_result"
    }
   ],
   "source": [
    "vec(\"Don't worry if you don't understand\")[:3]"
   ]
  },
  {
   "cell_type": "code",
   "execution_count": 29,
   "id": "fac56409-b0fe-4e9c-b9b1-7ba7ada7aa10",
   "metadata": {},
   "outputs": [],
   "source": [
    "df[\"vec\"] = df[\"Text\"].apply(lambda x: vec(x))"
   ]
  },
  {
   "cell_type": "code",
   "execution_count": 30,
   "id": "7078dfad-afd8-4549-b745-fd202f182bf0",
   "metadata": {},
   "outputs": [
    {
     "data": {
      "text/html": [
       "<div>\n",
       "<style scoped>\n",
       "    .dataframe tbody tr th:only-of-type {\n",
       "        vertical-align: middle;\n",
       "    }\n",
       "\n",
       "    .dataframe tbody tr th {\n",
       "        vertical-align: top;\n",
       "    }\n",
       "\n",
       "    .dataframe thead th {\n",
       "        text-align: right;\n",
       "    }\n",
       "</style>\n",
       "<table border=\"1\" class=\"dataframe\">\n",
       "  <thead>\n",
       "    <tr style=\"text-align: right;\">\n",
       "      <th></th>\n",
       "      <th>Text</th>\n",
       "      <th>label</th>\n",
       "      <th>vec</th>\n",
       "    </tr>\n",
       "  </thead>\n",
       "  <tbody>\n",
       "    <tr>\n",
       "      <th>0</th>\n",
       "      <td>Top Trump Surrogate BRUTALLY Stabs Him In The...</td>\n",
       "      <td>0</td>\n",
       "      <td>[0.008657642, 0.019024342, -0.011917442, 0.032...</td>\n",
       "    </tr>\n",
       "    <tr>\n",
       "      <th>1</th>\n",
       "      <td>U.S. conservative leader optimistic of common ...</td>\n",
       "      <td>1</td>\n",
       "      <td>[0.010864096, 0.007960429, 0.0011915653, 0.014...</td>\n",
       "    </tr>\n",
       "    <tr>\n",
       "      <th>2</th>\n",
       "      <td>Trump proposes U.S. tax overhaul, stirs concer...</td>\n",
       "      <td>1</td>\n",
       "      <td>[0.018134918, 0.0062743523, -0.005872244, 0.03...</td>\n",
       "    </tr>\n",
       "    <tr>\n",
       "      <th>3</th>\n",
       "      <td>Court Forces Ohio To Allow Millions Of Illega...</td>\n",
       "      <td>0</td>\n",
       "      <td>[0.01255197, 0.012613623, 5.9780963e-05, 0.021...</td>\n",
       "    </tr>\n",
       "    <tr>\n",
       "      <th>4</th>\n",
       "      <td>Democrats say Trump agrees to work on immigrat...</td>\n",
       "      <td>1</td>\n",
       "      <td>[-0.0019059887, 0.011889367, 0.0035395357, 0.0...</td>\n",
       "    </tr>\n",
       "  </tbody>\n",
       "</table>\n",
       "</div>"
      ],
      "text/plain": [
       "                                                Text  label  \\\n",
       "0   Top Trump Surrogate BRUTALLY Stabs Him In The...      0   \n",
       "1  U.S. conservative leader optimistic of common ...      1   \n",
       "2  Trump proposes U.S. tax overhaul, stirs concer...      1   \n",
       "3   Court Forces Ohio To Allow Millions Of Illega...      0   \n",
       "4  Democrats say Trump agrees to work on immigrat...      1   \n",
       "\n",
       "                                                 vec  \n",
       "0  [0.008657642, 0.019024342, -0.011917442, 0.032...  \n",
       "1  [0.010864096, 0.007960429, 0.0011915653, 0.014...  \n",
       "2  [0.018134918, 0.0062743523, -0.005872244, 0.03...  \n",
       "3  [0.01255197, 0.012613623, 5.9780963e-05, 0.021...  \n",
       "4  [-0.0019059887, 0.011889367, 0.0035395357, 0.0...  "
      ]
     },
     "execution_count": 30,
     "metadata": {},
     "output_type": "execute_result"
    }
   ],
   "source": [
    "df.head()"
   ]
  },
  {
   "cell_type": "code",
   "execution_count": 34,
   "id": "487b0282-1ac9-4b21-976a-b5de75ad0500",
   "metadata": {},
   "outputs": [],
   "source": [
    "x_train,x_test,y_train,y_test = train_test_split(df[\"vec\"],df[\"label\"],test_size=0.2,stratify=df[\"label\"])"
   ]
  },
  {
   "cell_type": "code",
   "execution_count": 42,
   "id": "e2b2ba07-fc88-440e-9745-56285c55a04f",
   "metadata": {},
   "outputs": [],
   "source": [
    "x_train = np.stack(x_train.values)\n",
    "x_test = np.stack(x_test.values)"
   ]
  },
  {
   "cell_type": "code",
   "execution_count": 44,
   "id": "fd8d2bc8-81b6-43eb-9ac0-cb1960b9b681",
   "metadata": {},
   "outputs": [],
   "source": [
    "mx = MinMaxScaler(feature_range=(0,1))\n",
    "x_train = mx.fit_transform(x_train)"
   ]
  },
  {
   "cell_type": "code",
   "execution_count": 45,
   "id": "a0d17599-21fa-439b-bf06-f215e8fa2085",
   "metadata": {},
   "outputs": [],
   "source": [
    "x_test = mx.transform(x_test)"
   ]
  },
  {
   "cell_type": "code",
   "execution_count": 48,
   "id": "e820379b-6e8c-447c-8022-2f532dda55c3",
   "metadata": {},
   "outputs": [],
   "source": [
    "clf = GradientBoostingClassifier()\n",
    "clf.fit(x_train,y_train)\n",
    "pred = clf.predict(x_test)"
   ]
  },
  {
   "cell_type": "code",
   "execution_count": 51,
   "id": "7df1cbbd-2588-467c-ba09-91f1d796b941",
   "metadata": {},
   "outputs": [
    {
     "name": "stdout",
     "output_type": "stream",
     "text": [
      "              precision    recall  f1-score   support\n",
      "\n",
      "           0       0.99      0.97      0.98      1000\n",
      "           1       0.97      0.99      0.98       980\n",
      "\n",
      "    accuracy                           0.98      1980\n",
      "   macro avg       0.98      0.98      0.98      1980\n",
      "weighted avg       0.98      0.98      0.98      1980\n",
      "\n"
     ]
    }
   ],
   "source": [
    "print(classification_report(y_test,pred))"
   ]
  },
  {
   "cell_type": "code",
   "execution_count": 52,
   "id": "f3fb798a-f03a-4e00-9261-dc18f2c4bc55",
   "metadata": {},
   "outputs": [
    {
     "data": {
      "text/plain": [
       "<Axes: >"
      ]
     },
     "execution_count": 52,
     "metadata": {},
     "output_type": "execute_result"
    },
    {
     "data": {
      "image/png": "[encoded data removed]",
      "text/plain": [
       "<Figure size 640x480 with 2 Axes>"
      ]
     },
     "metadata": {},
     "output_type": "display_data"
    }
   ],
   "source": [
    "cm = confusion_matrix(y_test,pred)\n",
    "sns.heatmap(cm,annot=True,fmt='.3g')"
   ]
  },
  {
   "cell_type": "code",
   "execution_count": 53,
   "id": "158e0502-0291-4e85-abfd-2bba64b65cf9",
   "metadata": {},
   "outputs": [
    {
     "data": {
      "text/plain": [
       "array([1, 0, 0], dtype=int64)"
      ]
     },
     "execution_count": 53,
     "metadata": {},
     "output_type": "execute_result"
    }
   ],
   "source": [
    "test_news = [\n",
    "    \"Michigan governor denies misleading U.S. House on Flint water (Reuters) - Michigan Governor Rick Snyder denied Thursday that he had misled a U.S. House of Representatives committee last year over testimony on Flintâ€™s water crisis after lawmakers asked if his testimony had been contradicted by a witness in a court hearing. The House Oversight and Government Reform Committee wrote Snyder earlier Thursday asking him about published reports that one of his aides, Harvey Hollins, testified in a court hearing last week in Michigan that he had notified Snyder of an outbreak of Legionnairesâ€™ disease linked to the Flint water crisis in December 2015, rather than 2016 as Snyder had testified. â€œMy testimony was truthful and I stand by it,â€ Snyder told the committee in a letter, adding that his office has provided tens of thousands of pages of records to the committee and would continue to cooperate fully.  Last week, prosecutors in Michigan said Dr. Eden Wells, the stateâ€™s chief medical executive who already faced lesser charges, would become the sixth current or former official to face involuntary manslaughter charges in connection with the crisis. The charges stem from more than 80 cases of Legionnairesâ€™ disease and at least 12 deaths that were believed to be linked to the water in Flint after the city switched its source from Lake Huron to the Flint River in April 2014. Wells was among six current and former Michigan and Flint officials charged in June. The other five, including Michigan Health and Human Services Director Nick Lyon, were charged at the time with involuntary manslaughter\",\n",
    "    \" WATCH: Fox News Host Loses Her Sh*t, Says Investigating Russia For Hacking Our Election Is Unpatriotic This woman is insane.In an incredibly disrespectful rant against President Obama and anyone else who supports investigating Russian interference in our election, Fox News host Jeanine Pirro said that anybody who is against Donald Trump is anti-American. Look, it s time to take sides,  she began.\",\n",
    "    \" Sarah Palin Celebrates After White Man Who Pulled Gun On Black Protesters Goes Unpunished (VIDEO) Sarah Palin, one of the nigh-innumerable  deplorables  in Donald Trump s  basket,  almost outdid herself in terms of horribleness on Friday.\"\n",
    "]\n",
    "test_news_vectors = [vec(n) for n in test_news]\n",
    "test_news_vectors = mx.transform(test_news_vectors)\n",
    "clf.predict(test_news_vectors)"
   ]
  }
 ],
 "metadata": {
  "kernelspec": {
   "display_name": "Python 3 (ipykernel)",
   "language": "python",
   "name": "python3"
  },
  "language_info": {
   "codemirror_mode": {
    "name": "ipython",
    "version": 3
   },
   "file_extension": ".py",
   "mimetype": "text/x-python",
   "name": "python",
   "nbconvert_exporter": "python",
   "pygments_lexer": "ipython3",
   "version": "3.9.18"
  }
 },
 "nbformat": 4,
 "nbformat_minor": 5
}
