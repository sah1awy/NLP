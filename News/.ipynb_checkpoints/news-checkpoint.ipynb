{
 "cells": [
  {
   "cell_type": "code",
   "execution_count": 1,
   "id": "d64df174-1a4e-4d1c-9937-2dc7bb956153",
   "metadata": {},
   "outputs": [],
   "source": [
    "from warnings import filterwarnings\n",
    "filterwarnings(\"ignore\")"
   ]
  },
  {
   "cell_type": "code",
   "execution_count": 119,
   "id": "2211a87f-a5d1-4083-92d6-088e75d9fcbc",
   "metadata": {},
   "outputs": [],
   "source": [
    "import numpy as np\n",
    "import pandas as pd\n",
    "import matplotlib.pyplot as plt\n",
    "import seaborn as sns\n",
    "from sklearn.model_selection import train_test_split, cross_val_score,GridSearchCV,RandomizedSearchCV\n",
    "from sklearn.preprocessing import LabelEncoder, StandardScaler,MinMaxScaler,OneHotEncoder,PolynomialFeatures,OrdinalEncoder\n",
    "from sklearn.compose import make_column_transformer\n",
    "from sklearn.pipeline import Pipeline\n",
    "from sklearn.metrics import confusion_matrix, classification_report, roc_curve, auc\n",
    "from sklearn.linear_model import LogisticRegression\n",
    "from sklearn.ensemble import RandomForestClassifier, BaggingClassifier\n",
    "from sklearn.impute import SimpleImputer\n",
    "from sklearn.tree import DecisionTreeClassifier\n",
    "from sklearn.neighbors import KNeighborsClassifier\n",
    "from sklearn.naive_bayes import MultinomialNB\n",
    "from sklearn.svm import SVC\n",
    "import spacy\n",
    "from imblearn.over_sampling import SMOTE\n",
    "from sklearn.feature_extraction.text import CountVectorizer\n",
    "from datetime import datetime"
   ]
  },
  {
   "cell_type": "code",
   "execution_count": 5,
   "id": "916969d2-7457-442a-852c-b0093f012d98",
   "metadata": {},
   "outputs": [
    {
     "data": {
      "text/html": [
       "<div>\n",
       "<style scoped>\n",
       "    .dataframe tbody tr th:only-of-type {\n",
       "        vertical-align: middle;\n",
       "    }\n",
       "\n",
       "    .dataframe tbody tr th {\n",
       "        vertical-align: top;\n",
       "    }\n",
       "\n",
       "    .dataframe thead th {\n",
       "        text-align: right;\n",
       "    }\n",
       "</style>\n",
       "<table border=\"1\" class=\"dataframe\">\n",
       "  <thead>\n",
       "    <tr style=\"text-align: right;\">\n",
       "      <th></th>\n",
       "      <th>text</th>\n",
       "      <th>category</th>\n",
       "    </tr>\n",
       "  </thead>\n",
       "  <tbody>\n",
       "    <tr>\n",
       "      <th>0</th>\n",
       "      <td>Watching Schrödinger's Cat Die University of C...</td>\n",
       "      <td>SCIENCE</td>\n",
       "    </tr>\n",
       "    <tr>\n",
       "      <th>1</th>\n",
       "      <td>WATCH: Freaky Vortex Opens Up In Flooded Lake</td>\n",
       "      <td>SCIENCE</td>\n",
       "    </tr>\n",
       "    <tr>\n",
       "      <th>2</th>\n",
       "      <td>Entrepreneurs Today Don't Need a Big Budget to...</td>\n",
       "      <td>BUSINESS</td>\n",
       "    </tr>\n",
       "    <tr>\n",
       "      <th>3</th>\n",
       "      <td>These Roads Could Recharge Your Electric Car A...</td>\n",
       "      <td>BUSINESS</td>\n",
       "    </tr>\n",
       "    <tr>\n",
       "      <th>4</th>\n",
       "      <td>Civilian 'Guard' Fires Gun While 'Protecting' ...</td>\n",
       "      <td>CRIME</td>\n",
       "    </tr>\n",
       "  </tbody>\n",
       "</table>\n",
       "</div>"
      ],
      "text/plain": [
       "                                                text  category\n",
       "0  Watching Schrödinger's Cat Die University of C...   SCIENCE\n",
       "1     WATCH: Freaky Vortex Opens Up In Flooded Lake    SCIENCE\n",
       "2  Entrepreneurs Today Don't Need a Big Budget to...  BUSINESS\n",
       "3  These Roads Could Recharge Your Electric Car A...  BUSINESS\n",
       "4  Civilian 'Guard' Fires Gun While 'Protecting' ...     CRIME"
      ]
     },
     "execution_count": 5,
     "metadata": {},
     "output_type": "execute_result"
    }
   ],
   "source": [
    "data = pd.read_json(\"news_dataset.json\")\n",
    "data.head()"
   ]
  },
  {
   "cell_type": "code",
   "execution_count": 6,
   "id": "e45d07fb-2ee8-4059-b3e5-210ec42d9a60",
   "metadata": {},
   "outputs": [
    {
     "data": {
      "text/html": [
       "<div>\n",
       "<style scoped>\n",
       "    .dataframe tbody tr th:only-of-type {\n",
       "        vertical-align: middle;\n",
       "    }\n",
       "\n",
       "    .dataframe tbody tr th {\n",
       "        vertical-align: top;\n",
       "    }\n",
       "\n",
       "    .dataframe thead th {\n",
       "        text-align: right;\n",
       "    }\n",
       "</style>\n",
       "<table border=\"1\" class=\"dataframe\">\n",
       "  <thead>\n",
       "    <tr style=\"text-align: right;\">\n",
       "      <th></th>\n",
       "      <th>text</th>\n",
       "      <th>category</th>\n",
       "    </tr>\n",
       "  </thead>\n",
       "  <tbody>\n",
       "    <tr>\n",
       "      <th>11258</th>\n",
       "      <td>Hero High School Football Player Killed Shield...</td>\n",
       "      <td>CRIME</td>\n",
       "    </tr>\n",
       "    <tr>\n",
       "      <th>10861</th>\n",
       "      <td>Why Won't Cardone Return My Calls? When Mike B...</td>\n",
       "      <td>BUSINESS</td>\n",
       "    </tr>\n",
       "    <tr>\n",
       "      <th>8889</th>\n",
       "      <td>This Vietnamese Marksman Just Made Olympic His...</td>\n",
       "      <td>SPORTS</td>\n",
       "    </tr>\n",
       "  </tbody>\n",
       "</table>\n",
       "</div>"
      ],
      "text/plain": [
       "                                                    text  category\n",
       "11258  Hero High School Football Player Killed Shield...     CRIME\n",
       "10861  Why Won't Cardone Return My Calls? When Mike B...  BUSINESS\n",
       "8889   This Vietnamese Marksman Just Made Olympic His...    SPORTS"
      ]
     },
     "execution_count": 6,
     "metadata": {},
     "output_type": "execute_result"
    }
   ],
   "source": [
    "data.sample(3)"
   ]
  },
  {
   "cell_type": "code",
   "execution_count": 7,
   "id": "65e3fb5b-714b-41a1-8ede-27f6421dc6d8",
   "metadata": {},
   "outputs": [
    {
     "name": "stdout",
     "output_type": "stream",
     "text": [
      "<class 'pandas.core.frame.DataFrame'>\n",
      "Index: 12695 entries, 0 to 12694\n",
      "Data columns (total 2 columns):\n",
      " #   Column    Non-Null Count  Dtype \n",
      "---  ------    --------------  ----- \n",
      " 0   text      12695 non-null  object\n",
      " 1   category  12695 non-null  object\n",
      "dtypes: object(2)\n",
      "memory usage: 297.5+ KB\n"
     ]
    }
   ],
   "source": [
    "data.info()"
   ]
  },
  {
   "cell_type": "code",
   "execution_count": 8,
   "id": "a874bdee-30f7-4d5a-ba6f-ad96312b5fdb",
   "metadata": {},
   "outputs": [
    {
     "data": {
      "text/plain": [
       "text        0\n",
       "category    0\n",
       "dtype: int64"
      ]
     },
     "execution_count": 8,
     "metadata": {},
     "output_type": "execute_result"
    }
   ],
   "source": [
    "data.isnull().sum()"
   ]
  },
  {
   "cell_type": "code",
   "execution_count": 9,
   "id": "e1a7db14-d49f-480c-9b13-3a4c64978552",
   "metadata": {},
   "outputs": [
    {
     "data": {
      "text/html": [
       "<div>\n",
       "<style scoped>\n",
       "    .dataframe tbody tr th:only-of-type {\n",
       "        vertical-align: middle;\n",
       "    }\n",
       "\n",
       "    .dataframe tbody tr th {\n",
       "        vertical-align: top;\n",
       "    }\n",
       "\n",
       "    .dataframe thead th {\n",
       "        text-align: right;\n",
       "    }\n",
       "</style>\n",
       "<table border=\"1\" class=\"dataframe\">\n",
       "  <thead>\n",
       "    <tr style=\"text-align: right;\">\n",
       "      <th></th>\n",
       "      <th>text</th>\n",
       "      <th>category</th>\n",
       "    </tr>\n",
       "  </thead>\n",
       "  <tbody>\n",
       "    <tr>\n",
       "      <th>4466</th>\n",
       "      <td>How Can Businesses Build Trust? Putting in pla...</td>\n",
       "      <td>BUSINESS</td>\n",
       "    </tr>\n",
       "    <tr>\n",
       "      <th>5172</th>\n",
       "      <td>Ferguson Police Officer Shot</td>\n",
       "      <td>CRIME</td>\n",
       "    </tr>\n",
       "    <tr>\n",
       "      <th>7259</th>\n",
       "      <td>9 Terrifying American Murder Houses</td>\n",
       "      <td>CRIME</td>\n",
       "    </tr>\n",
       "    <tr>\n",
       "      <th>9792</th>\n",
       "      <td>10 Most Hated Companies In America To be truly...</td>\n",
       "      <td>BUSINESS</td>\n",
       "    </tr>\n",
       "    <tr>\n",
       "      <th>12268</th>\n",
       "      <td>Two Victims Shot On Texas Southern University ...</td>\n",
       "      <td>CRIME</td>\n",
       "    </tr>\n",
       "    <tr>\n",
       "      <th>12410</th>\n",
       "      <td>Dallas Shooting Suspect Confirmed Dead: Police</td>\n",
       "      <td>CRIME</td>\n",
       "    </tr>\n",
       "  </tbody>\n",
       "</table>\n",
       "</div>"
      ],
      "text/plain": [
       "                                                    text  category\n",
       "4466   How Can Businesses Build Trust? Putting in pla...  BUSINESS\n",
       "5172                       Ferguson Police Officer Shot      CRIME\n",
       "7259                9 Terrifying American Murder Houses      CRIME\n",
       "9792   10 Most Hated Companies In America To be truly...  BUSINESS\n",
       "12268  Two Victims Shot On Texas Southern University ...     CRIME\n",
       "12410    Dallas Shooting Suspect Confirmed Dead: Police      CRIME"
      ]
     },
     "execution_count": 9,
     "metadata": {},
     "output_type": "execute_result"
    }
   ],
   "source": [
    "data[data.duplicated()]"
   ]
  },
  {
   "cell_type": "code",
   "execution_count": 10,
   "id": "569d1d67-527b-4fc6-981e-5078fb2d0064",
   "metadata": {},
   "outputs": [],
   "source": [
    "df = data.copy()"
   ]
  },
  {
   "cell_type": "code",
   "execution_count": 11,
   "id": "48f9bc9b-df16-4fad-8e93-8b3d0629ec96",
   "metadata": {},
   "outputs": [],
   "source": [
    "df.drop_duplicates(inplace=True)"
   ]
  },
  {
   "cell_type": "code",
   "execution_count": 12,
   "id": "cb50a390-0806-455c-8164-d6eeec234c42",
   "metadata": {},
   "outputs": [
    {
     "data": {
      "text/html": [
       "<div>\n",
       "<style scoped>\n",
       "    .dataframe tbody tr th:only-of-type {\n",
       "        vertical-align: middle;\n",
       "    }\n",
       "\n",
       "    .dataframe tbody tr th {\n",
       "        vertical-align: top;\n",
       "    }\n",
       "\n",
       "    .dataframe thead th {\n",
       "        text-align: right;\n",
       "    }\n",
       "</style>\n",
       "<table border=\"1\" class=\"dataframe\">\n",
       "  <thead>\n",
       "    <tr style=\"text-align: right;\">\n",
       "      <th></th>\n",
       "      <th>text</th>\n",
       "      <th>category</th>\n",
       "    </tr>\n",
       "  </thead>\n",
       "  <tbody>\n",
       "    <tr>\n",
       "      <th>count</th>\n",
       "      <td>12689</td>\n",
       "      <td>12689</td>\n",
       "    </tr>\n",
       "    <tr>\n",
       "      <th>unique</th>\n",
       "      <td>12689</td>\n",
       "      <td>4</td>\n",
       "    </tr>\n",
       "    <tr>\n",
       "      <th>top</th>\n",
       "      <td>Watching Schrödinger's Cat Die University of C...</td>\n",
       "      <td>BUSINESS</td>\n",
       "    </tr>\n",
       "    <tr>\n",
       "      <th>freq</th>\n",
       "      <td>1</td>\n",
       "      <td>4252</td>\n",
       "    </tr>\n",
       "  </tbody>\n",
       "</table>\n",
       "</div>"
      ],
      "text/plain": [
       "                                                     text  category\n",
       "count                                               12689     12689\n",
       "unique                                              12689         4\n",
       "top     Watching Schrödinger's Cat Die University of C...  BUSINESS\n",
       "freq                                                    1      4252"
      ]
     },
     "execution_count": 12,
     "metadata": {},
     "output_type": "execute_result"
    }
   ],
   "source": [
    "df.describe()"
   ]
  },
  {
   "cell_type": "code",
   "execution_count": 13,
   "id": "a7078369-db39-4392-a841-d22b27e8b661",
   "metadata": {},
   "outputs": [
    {
     "data": {
      "text/plain": [
       "text        object\n",
       "category    object\n",
       "dtype: object"
      ]
     },
     "execution_count": 13,
     "metadata": {},
     "output_type": "execute_result"
    }
   ],
   "source": [
    "df.dtypes"
   ]
  },
  {
   "cell_type": "code",
   "execution_count": 14,
   "id": "130302c9-aabe-4403-b039-431a99a77684",
   "metadata": {},
   "outputs": [
    {
     "data": {
      "text/plain": [
       "Index(['text', 'category'], dtype='object')"
      ]
     },
     "execution_count": 14,
     "metadata": {},
     "output_type": "execute_result"
    }
   ],
   "source": [
    "df.columns"
   ]
  },
  {
   "cell_type": "code",
   "execution_count": 15,
   "id": "98396309-7b41-4621-a3a0-879b90f2c8b7",
   "metadata": {},
   "outputs": [
    {
     "data": {
      "text/plain": [
       "Index([    0,     1,     2,     3,     4,     5,     6,     7,     8,     9,\n",
       "       ...\n",
       "       12685, 12686, 12687, 12688, 12689, 12690, 12691, 12692, 12693, 12694],\n",
       "      dtype='int64', length=12689)"
      ]
     },
     "execution_count": 15,
     "metadata": {},
     "output_type": "execute_result"
    }
   ],
   "source": [
    "df.index"
   ]
  },
  {
   "cell_type": "code",
   "execution_count": 21,
   "id": "99d8fd2c-5ab5-46e1-94fe-9157a7896c8f",
   "metadata": {},
   "outputs": [
    {
     "data": {
      "image/png": "[encoded data removed]",
      "text/plain": [
       "<Figure size 1200x600 with 2 Axes>"
      ]
     },
     "metadata": {},
     "output_type": "display_data"
    }
   ],
   "source": [
    "plt.figure(figsize=(12,6))\n",
    "plt.suptitle(\"Category\",fontsize=16,weight='bold')\n",
    "plt.subplot(1,2,1)\n",
    "plt.bar(df[\"category\"].value_counts().index,df[\"category\"].value_counts(),label=df[\"category\"].value_counts().index,color=['red','blue','gray','green'])\n",
    "plt.xlabel(\"Category\")\n",
    "plt.ylabel(\"Count\")\n",
    "plt.subplot(1,2,2)\n",
    "plt.pie(df[\"category\"].value_counts(),explode=[0,0,0,0.02],labels=df[\"category\"].value_counts().index,colors=['red','blue','gray','green'],autopct=\"%.2f%%\")\n",
    "plt.legend(shadow=True,bbox_to_anchor=[0.95,1.05])\n",
    "plt.show()"
   ]
  },
  {
   "cell_type": "code",
   "execution_count": 45,
   "id": "e2f4aa3b-9b88-4470-9592-2f297e4750f4",
   "metadata": {},
   "outputs": [],
   "source": [
    "nlp = spacy.load(\"en_core_web_sm\")\n",
    "def preprocess(s):\n",
    "    l = []\n",
    "    doc = nlp(s)\n",
    "    for token in doc:\n",
    "        if not (token.is_stop | token.is_punct):\n",
    "            if token not in [' ',',']:\n",
    "                l.append(token.lemma_)\n",
    "    return \" \".join(l) "
   ]
  },
  {
   "cell_type": "code",
   "execution_count": 49,
   "id": "a938715f-566d-40ed-8d2e-1af5bf70292c",
   "metadata": {},
   "outputs": [],
   "source": [
    "df[\"text_processed\"] = df[\"text\"].apply(preprocess)"
   ]
  },
  {
   "cell_type": "code",
   "execution_count": 55,
   "id": "51da7c61-3a12-4382-bc7a-b43dd3080993",
   "metadata": {},
   "outputs": [
    {
     "data": {
      "text/plain": [
       "'watch Schrödinger Cat Die University California Berkeley physicist time show fact possible follow metaphorical cat process live die end'"
      ]
     },
     "execution_count": 55,
     "metadata": {},
     "output_type": "execute_result"
    }
   ],
   "source": [
    "df[\"text_processed\"].iloc[0]"
   ]
  },
  {
   "cell_type": "code",
   "execution_count": 92,
   "id": "7ac88c23-fe33-45f2-8711-54d104656f4b",
   "metadata": {},
   "outputs": [],
   "source": [
    "v = CountVectorizer()\n",
    "d = pd.DataFrame(v.fit_transform(df[\"text_processed\"]).toarray())"
   ]
  },
  {
   "cell_type": "code",
   "execution_count": 83,
   "id": "a20d49ee-4010-4ff8-ae77-4adc8572cc1f",
   "metadata": {},
   "outputs": [],
   "source": [
    "df.reset_index(drop=True,inplace=True)"
   ]
  },
  {
   "cell_type": "code",
   "execution_count": 93,
   "id": "7419c404-ae62-4142-bea8-87e7fb0130e7",
   "metadata": {},
   "outputs": [],
   "source": [
    "d = pd.concat((d,df[\"category\"]),axis=1)"
   ]
  },
  {
   "cell_type": "code",
   "execution_count": 94,
   "id": "7f130d63-4146-4465-8ced-c683fa0d92e9",
   "metadata": {},
   "outputs": [
    {
     "data": {
      "text/plain": [
       "category\n",
       "BUSINESS    4252\n",
       "SPORTS      4167\n",
       "CRIME       2889\n",
       "SCIENCE     1381\n",
       "Name: count, dtype: int64"
      ]
     },
     "execution_count": 94,
     "metadata": {},
     "output_type": "execute_result"
    }
   ],
   "source": [
    "d.category.value_counts()"
   ]
  },
  {
   "cell_type": "code",
   "execution_count": 99,
   "id": "ca41f08a-28ac-40c0-8cfd-5431187c45a0",
   "metadata": {},
   "outputs": [
    {
     "name": "stdout",
     "output_type": "stream",
     "text": [
      "<class 'pandas.core.frame.DataFrame'>\n",
      "RangeIndex: 12689 entries, 0 to 12688\n",
      "Columns: 19875 entries, 0 to 19874\n",
      "dtypes: float16(19875)\n",
      "memory usage: 481.0 MB\n"
     ]
    }
   ],
   "source": [
    "d = d.iloc[:,:-1].astype(np.float16)\n",
    "d.info()"
   ]
  },
  {
   "cell_type": "code",
   "execution_count": 101,
   "id": "9ed2d728-ee14-4e5f-ab91-d1e78f912e39",
   "metadata": {},
   "outputs": [],
   "source": [
    "d = pd.concat((d,df[\"category\"]),axis=1)"
   ]
  },
  {
   "cell_type": "code",
   "execution_count": 102,
   "id": "c6320e0e-51ab-41e4-a9d1-6486fb69710b",
   "metadata": {},
   "outputs": [
    {
     "name": "stdout",
     "output_type": "stream",
     "text": [
      "<class 'pandas.core.frame.DataFrame'>\n",
      "RangeIndex: 12689 entries, 0 to 12688\n",
      "Columns: 19876 entries, 0 to category\n",
      "dtypes: float16(19875), object(1)\n",
      "memory usage: 481.1+ MB\n"
     ]
    }
   ],
   "source": [
    "d.info()"
   ]
  },
  {
   "cell_type": "code",
   "execution_count": 104,
   "id": "3d3dd4b9-d4c4-4c93-9f8f-9255a869ff01",
   "metadata": {},
   "outputs": [],
   "source": [
    "sm = SMOTE()\n",
    "x_sm,y_sm = sm.fit_resample(d.drop(\"category\",axis=1),d.category)"
   ]
  },
  {
   "cell_type": "code",
   "execution_count": 110,
   "id": "e578837a-e584-4429-acfc-7c733b7721e9",
   "metadata": {},
   "outputs": [],
   "source": [
    "mapper = {\"BUSINESS\":0,\"CRIME\":1,\"SCIENCE\":2,\"SPORTS\":3}\n",
    "y_sm = y_sm.map(mapper)"
   ]
  },
  {
   "cell_type": "code",
   "execution_count": 111,
   "id": "e84eaa03-0b23-43a9-8ff4-2d68fcf31df3",
   "metadata": {},
   "outputs": [],
   "source": [
    "x_train,x_test,y_train,y_test = train_test_split(x_sm,y_sm,test_size=0.3,stratify=y_sm)"
   ]
  },
  {
   "cell_type": "code",
   "execution_count": 114,
   "id": "7e7dc8d6-d8ff-4e97-866a-476b76435ae6",
   "metadata": {},
   "outputs": [
    {
     "data": {
      "text/plain": [
       "<Axes: >"
      ]
     },
     "execution_count": 114,
     "metadata": {},
     "output_type": "execute_result"
    },
    {
     "data": {
      "image/png": "[encoded data removed]",
      "text/plain": [
       "<Figure size 640x480 with 2 Axes>"
      ]
     },
     "metadata": {},
     "output_type": "display_data"
    }
   ],
   "source": [
    "nb = MultinomialNB()\n",
    "nb.fit(x_train,y_train)\n",
    "pred = nb.predict(x_test)\n",
    "cm = confusion_matrix(y_test,pred)\n",
    "sns.heatmap(cm,annot=True,fmt='.6g')"
   ]
  },
  {
   "cell_type": "code",
   "execution_count": 113,
   "id": "1547376a-a497-4590-99d2-078d9087af81",
   "metadata": {},
   "outputs": [
    {
     "name": "stdout",
     "output_type": "stream",
     "text": [
      "              precision    recall  f1-score   support\n",
      "\n",
      "           0       0.91      0.90      0.90      1251\n",
      "           1       0.90      0.95      0.93      1275\n",
      "           2       0.95      0.94      0.95      1286\n",
      "           3       0.94      0.90      0.92      1291\n",
      "\n",
      "    accuracy                           0.92      5103\n",
      "   macro avg       0.92      0.92      0.92      5103\n",
      "weighted avg       0.92      0.92      0.92      5103\n",
      "\n"
     ]
    }
   ],
   "source": [
    "print(classification_report(y_test,pred))"
   ]
  },
  {
   "cell_type": "code",
   "execution_count": 121,
   "id": "ad51d74b-6e7a-42e7-a354-ffd179957205",
   "metadata": {},
   "outputs": [
    {
     "name": "stdout",
     "output_type": "stream",
     "text": [
      "-1 day, 23:58:23.819445\n"
     ]
    },
    {
     "data": {
      "image/png": "[encoded data removed]",
      "text/plain": [
       "<Figure size 640x480 with 2 Axes>"
      ]
     },
     "metadata": {},
     "output_type": "display_data"
    }
   ],
   "source": [
    "a = datetime.now()\n",
    "rf = RandomForestClassifier()\n",
    "rf.fit(x_train,y_train)\n",
    "pred2 = rf.predict(x_test)\n",
    "cm2 = confusion_matrix(y_test,pred2)\n",
    "sns.heatmap(cm2,annot=True,fmt='.6g')\n",
    "b = datetime.now()\n",
    "print(a-b)"
   ]
  },
  {
   "cell_type": "code",
   "execution_count": 122,
   "id": "aec989b9-b699-49d7-b044-213ff411c0dd",
   "metadata": {},
   "outputs": [
    {
     "name": "stdout",
     "output_type": "stream",
     "text": [
      "              precision    recall  f1-score   support\n",
      "\n",
      "           0       0.77      0.90      0.83      1251\n",
      "           1       0.89      0.91      0.90      1275\n",
      "           2       0.95      0.90      0.92      1286\n",
      "           3       0.92      0.80      0.86      1291\n",
      "\n",
      "    accuracy                           0.88      5103\n",
      "   macro avg       0.88      0.88      0.88      5103\n",
      "weighted avg       0.88      0.88      0.88      5103\n",
      "\n"
     ]
    }
   ],
   "source": [
    "print(classification_report(y_test,pred2))"
   ]
  },
  {
   "cell_type": "code",
   "execution_count": 129,
   "id": "2045a2e4-2bba-418f-8f4a-ad0a85f63687",
   "metadata": {},
   "outputs": [
    {
     "name": "stdout",
     "output_type": "stream",
     "text": [
      "The Calculation took: 2min\n"
     ]
    }
   ],
   "source": [
    "print(f\"The Calculation took: {b.minute - a.minute}min\")"
   ]
  },
  {
   "cell_type": "code",
   "execution_count": null,
   "id": "8c967913-4719-4221-aa95-822d4e96aee5",
   "metadata": {},
   "outputs": [],
   "source": [
    "import pickle \n",
    "with open(\"NB.pkl\",'wb') as f:\n",
    "    pickle.dump(nb,f)"
   ]
  }
 ],
 "metadata": {
  "kernelspec": {
   "display_name": "Python 3 (ipykernel)",
   "language": "python",
   "name": "python3"
  },
  "language_info": {
   "codemirror_mode": {
    "name": "ipython",
    "version": 3
   },
   "file_extension": ".py",
   "mimetype": "text/x-python",
   "name": "python",
   "nbconvert_exporter": "python",
   "pygments_lexer": "ipython3",
   "version": "3.9.18"
  }
 },
 "nbformat": 4,
 "nbformat_minor": 5
}
