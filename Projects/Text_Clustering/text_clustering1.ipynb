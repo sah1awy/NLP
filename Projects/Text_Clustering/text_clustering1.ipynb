{
 "cells": [
  {
   "cell_type": "code",
   "execution_count": 3,
   "id": "7b449189-4b2b-451a-9fd4-ed9055e74dd4",
   "metadata": {},
   "outputs": [],
   "source": [
    "import pandas as pd\n",
    "import spacy \n",
    "import nltk\n",
    "import math \n",
    "from sklearn.feature_extraction.text import TfidfVectorizer\n",
    "from sklearn.cluster import KMeans\n",
    "import re"
   ]
  },
  {
   "cell_type": "code",
   "execution_count": 69,
   "id": "4d502d0e-9edd-4b71-a086-5ee9d3f1b508",
   "metadata": {},
   "outputs": [],
   "source": [
    "txt  =  \"\"\"\n",
    " Google and Facebook are strangling the free press to death. Democracy is the loserGoogle an \n",
    "Your 60-second guide to security stuff Google touted today at Next '18\n",
    "A Guide to Using Android Without Selling Your Soul to Google\n",
    "Review: Lenovo’s Google Smart Display is pretty and intelligent\n",
    "Google Maps user spots mysterious object submerged off the coast of Greece - and no-one knows what it is\n",
    "Android is better than IOS\n",
    "In information retrieval, tf–idf or TFIDF, short for term frequency–inverse document frequency\n",
    "is a numerical statistic that is intended to reflect\n",
    "how important a word is to a document in a collection or corpus.\n",
    "It is often used as a weighting factor in searches of information retrieval\n",
    "text mining, and user modeling. The tf-idf value increases proportionally\n",
    "to the number of times a word appears in the document\n",
    "and is offset by the frequency of the word in the corpus\n",
    "\"\"\""
   ]
  },
  {
   "cell_type": "code",
   "execution_count": 38,
   "id": "c0a59d91-1f27-40ae-ac67-c9d0cf084599",
   "metadata": {},
   "outputs": [],
   "source": [
    "corpus = \"\"\"\n",
    "Simple example with Cats and Mouse\n",
    "Another simple example with dogs and cats\n",
    "Another simple example with mouse and cheese\n",
    "\"\"\""
   ]
  },
  {
   "cell_type": "code",
   "execution_count": 39,
   "id": "425afd0b-5655-4d03-8249-b60d1fac2c27",
   "metadata": {},
   "outputs": [],
   "source": [
    "corpus = corpus.split('\\n')[1:-1]\n",
    "la = corpus[0].lower().strip().split(' ')\n",
    "lb = corpus[1].lower().strip().split(' ')\n",
    "lc = corpus[2].lower().strip().split(' ')\n",
    "uq = set(la).union(set(lb)).union(set(lc))\n",
    "w1 = dict.fromkeys(uq,0)\n",
    "w2 = dict.fromkeys(uq,0)\n",
    "w3 = dict.fromkeys(uq,0)"
   ]
  },
  {
   "cell_type": "code",
   "execution_count": 40,
   "id": "85da58c9-eab3-42ac-b263-3a7e3b07873a",
   "metadata": {},
   "outputs": [
    {
     "data": {
      "text/plain": [
       "['simple', 'example', 'with', 'cats', 'and', 'mouse']"
      ]
     },
     "execution_count": 40,
     "metadata": {},
     "output_type": "execute_result"
    }
   ],
   "source": [
    "la"
   ]
  },
  {
   "cell_type": "code",
   "execution_count": 41,
   "id": "eefbcd3e-6a0a-489a-8a07-aeee50fc536e",
   "metadata": {},
   "outputs": [],
   "source": [
    "def counterizer(l,w):\n",
    "    for x in l:\n",
    "        w[x] += 1\n",
    "    return w"
   ]
  },
  {
   "cell_type": "code",
   "execution_count": 42,
   "id": "f5d7f492-e7f4-4ed1-884d-0c9d45dc3818",
   "metadata": {},
   "outputs": [],
   "source": [
    "w1_dict = counterizer(la,w1)\n",
    "w2_dict = counterizer(lb,w2)\n",
    "w3_dict = counterizer(lc,w3)"
   ]
  },
  {
   "cell_type": "code",
   "execution_count": 43,
   "id": "db607f5d-e5c6-4abc-af73-63ccf86b2b5f",
   "metadata": {},
   "outputs": [
    {
     "data": {
      "text/plain": [
       "{'dogs': 0,\n",
       " 'example': 1,\n",
       " 'and': 1,\n",
       " 'another': 0,\n",
       " 'cats': 1,\n",
       " 'cheese': 0,\n",
       " 'with': 1,\n",
       " 'simple': 1,\n",
       " 'mouse': 1}"
      ]
     },
     "execution_count": 43,
     "metadata": {},
     "output_type": "execute_result"
    }
   ],
   "source": [
    "w1_dict"
   ]
  },
  {
   "cell_type": "code",
   "execution_count": 48,
   "id": "13b7a907-4050-4657-841d-f4d9be4ef4cb",
   "metadata": {},
   "outputs": [],
   "source": [
    "def tf(vec,l):\n",
    "    n = float(len(l))\n",
    "    tf = {}\n",
    "    for k,v in vec.items():\n",
    "        tf[k] = v / n\n",
    "    return tf"
   ]
  },
  {
   "cell_type": "code",
   "execution_count": 51,
   "id": "6b828caa-118e-4865-a5f7-5633b074af17",
   "metadata": {},
   "outputs": [],
   "source": [
    "tf_a = tf(w1_dict,la)"
   ]
  },
  {
   "cell_type": "code",
   "execution_count": 52,
   "id": "5610222e-6a89-4eb1-a905-4c338c4e8d89",
   "metadata": {},
   "outputs": [],
   "source": [
    "tf_b = tf(w2_dict,lb)"
   ]
  },
  {
   "cell_type": "code",
   "execution_count": 53,
   "id": "9ca1834b-f344-451c-a17a-bb5733eb4259",
   "metadata": {},
   "outputs": [],
   "source": [
    "tf_c = tf(w3_dict,lc)"
   ]
  },
  {
   "cell_type": "code",
   "execution_count": 54,
   "id": "6a8e764c-8b7b-4b21-b197-63f871fe5728",
   "metadata": {},
   "outputs": [
    {
     "data": {
      "text/plain": [
       "{'dogs': 0.0,\n",
       " 'example': 0.16666666666666666,\n",
       " 'and': 0.16666666666666666,\n",
       " 'another': 0.0,\n",
       " 'cats': 0.16666666666666666,\n",
       " 'cheese': 0.0,\n",
       " 'with': 0.16666666666666666,\n",
       " 'simple': 0.16666666666666666,\n",
       " 'mouse': 0.16666666666666666}"
      ]
     },
     "execution_count": 54,
     "metadata": {},
     "output_type": "execute_result"
    }
   ],
   "source": [
    "tf_a"
   ]
  },
  {
   "cell_type": "code",
   "execution_count": 55,
   "id": "f86c97eb-71de-452b-bc87-26a432dd4352",
   "metadata": {},
   "outputs": [
    {
     "data": {
      "text/plain": [
       "{'dogs': 0.14285714285714285,\n",
       " 'example': 0.14285714285714285,\n",
       " 'and': 0.14285714285714285,\n",
       " 'another': 0.14285714285714285,\n",
       " 'cats': 0.14285714285714285,\n",
       " 'cheese': 0.0,\n",
       " 'with': 0.14285714285714285,\n",
       " 'simple': 0.14285714285714285,\n",
       " 'mouse': 0.0}"
      ]
     },
     "execution_count": 55,
     "metadata": {},
     "output_type": "execute_result"
    }
   ],
   "source": [
    "tf_b"
   ]
  },
  {
   "cell_type": "code",
   "execution_count": 56,
   "id": "14dd9c46-f117-4cba-93ba-5786cbb238f5",
   "metadata": {},
   "outputs": [
    {
     "data": {
      "text/plain": [
       "{'dogs': 0.0,\n",
       " 'example': 0.14285714285714285,\n",
       " 'and': 0.14285714285714285,\n",
       " 'another': 0.14285714285714285,\n",
       " 'cats': 0.0,\n",
       " 'cheese': 0.14285714285714285,\n",
       " 'with': 0.14285714285714285,\n",
       " 'simple': 0.14285714285714285,\n",
       " 'mouse': 0.14285714285714285}"
      ]
     },
     "execution_count": 56,
     "metadata": {},
     "output_type": "execute_result"
    }
   ],
   "source": [
    "tf_c"
   ]
  },
  {
   "cell_type": "code",
   "execution_count": 61,
   "id": "45256681-308a-4ac5-b767-6df09afbb01b",
   "metadata": {},
   "outputs": [],
   "source": [
    "def idf(docs):\n",
    "    idf = dict.fromkeys(docs[0].keys(),0)\n",
    "    n = float(len(docs))\n",
    "    for doc in docs:\n",
    "        for k,v in doc.items():\n",
    "            if v > 0:\n",
    "                idf[k] += 1\n",
    "\n",
    "    for k,v in idf.items():\n",
    "        idf[k] = math.log(n/idf[k])\n",
    "    return idf"
   ]
  },
  {
   "cell_type": "code",
   "execution_count": 62,
   "id": "2c77f7f0-7b2c-41dd-bcbf-84cd54f7ccd7",
   "metadata": {},
   "outputs": [
    {
     "data": {
      "text/plain": [
       "{'dogs': 1.0986122886681098,\n",
       " 'example': 0.0,\n",
       " 'and': 0.0,\n",
       " 'another': 0.4054651081081644,\n",
       " 'cats': 0.4054651081081644,\n",
       " 'cheese': 1.0986122886681098,\n",
       " 'with': 0.0,\n",
       " 'simple': 0.0,\n",
       " 'mouse': 0.4054651081081644}"
      ]
     },
     "execution_count": 62,
     "metadata": {},
     "output_type": "execute_result"
    }
   ],
   "source": [
    "idf = idf([w1_dict,w2_dict,w3_dict])\n",
    "idf"
   ]
  },
  {
   "cell_type": "code",
   "execution_count": 63,
   "id": "eeace4f3-3c76-44d2-a63d-abda71a3b056",
   "metadata": {},
   "outputs": [],
   "source": [
    "def tf_idf(tf,idf):\n",
    "    tf_idf = dict.fromkeys(tf.keys(),0)\n",
    "    for k,v in tf.items():\n",
    "        tf_idf[k] = v * idf[k]\n",
    "    return tf_idf"
   ]
  },
  {
   "cell_type": "code",
   "execution_count": 64,
   "id": "337ec91d-0ffe-49d7-8fcd-c0c1e8416821",
   "metadata": {},
   "outputs": [
    {
     "data": {
      "text/plain": [
       "{'dogs': 0.0,\n",
       " 'example': 0.0,\n",
       " 'and': 0.0,\n",
       " 'another': 0.0,\n",
       " 'cats': 0.06757751801802739,\n",
       " 'cheese': 0.0,\n",
       " 'with': 0.0,\n",
       " 'simple': 0.0,\n",
       " 'mouse': 0.06757751801802739}"
      ]
     },
     "execution_count": 64,
     "metadata": {},
     "output_type": "execute_result"
    }
   ],
   "source": [
    "tf_idf_a = tf_idf(tf_a,idf)\n",
    "tf_idf_a"
   ]
  },
  {
   "cell_type": "code",
   "execution_count": 65,
   "id": "fb2268aa-0964-4351-85f2-f50ea781eb49",
   "metadata": {},
   "outputs": [
    {
     "data": {
      "text/plain": [
       "{'dogs': 0.15694461266687282,\n",
       " 'example': 0.0,\n",
       " 'and': 0.0,\n",
       " 'another': 0.05792358687259491,\n",
       " 'cats': 0.05792358687259491,\n",
       " 'cheese': 0.0,\n",
       " 'with': 0.0,\n",
       " 'simple': 0.0,\n",
       " 'mouse': 0.0}"
      ]
     },
     "execution_count": 65,
     "metadata": {},
     "output_type": "execute_result"
    }
   ],
   "source": [
    "tf_idf_b = tf_idf(tf_b,idf)\n",
    "tf_idf_b"
   ]
  },
  {
   "cell_type": "code",
   "execution_count": 66,
   "id": "62fed39d-3e03-44aa-bebe-cfac4b526a62",
   "metadata": {},
   "outputs": [
    {
     "data": {
      "text/plain": [
       "{'dogs': 0.0,\n",
       " 'example': 0.0,\n",
       " 'and': 0.0,\n",
       " 'another': 0.05792358687259491,\n",
       " 'cats': 0.0,\n",
       " 'cheese': 0.15694461266687282,\n",
       " 'with': 0.0,\n",
       " 'simple': 0.0,\n",
       " 'mouse': 0.05792358687259491}"
      ]
     },
     "execution_count": 66,
     "metadata": {},
     "output_type": "execute_result"
    }
   ],
   "source": [
    "tf_idf_c = tf_idf(tf_c,idf)\n",
    "tf_idf_c"
   ]
  },
  {
   "cell_type": "code",
   "execution_count": 71,
   "id": "999cee82-cb59-4ff3-9699-4a0d71c12cbb",
   "metadata": {},
   "outputs": [
    {
     "data": {
      "text/plain": [
       "[' Google and Facebook are strangling the free press to death. Democracy is the loserGoogle an ',\n",
       " \"Your 60-second guide to security stuff Google touted today at Next '18\",\n",
       " 'A Guide to Using Android Without Selling Your Soul to Google',\n",
       " 'Review: Lenovo’s Google Smart Display is pretty and intelligent',\n",
       " 'Google Maps user spots mysterious object submerged off the coast of Greece - and no-one knows what it is',\n",
       " 'Android is better than IOS',\n",
       " 'In information retrieval, tf–idf or TFIDF, short for term frequency–inverse document frequency',\n",
       " 'is a numerical statistic that is intended to reflect',\n",
       " 'how important a word is to a document in a collection or corpus.',\n",
       " 'It is often used as a weighting factor in searches of information retrieval',\n",
       " 'text mining, and user modeling. The tf-idf value increases proportionally',\n",
       " 'to the number of times a word appears in the document',\n",
       " 'and is offset by the frequency of the word in the corpus']"
      ]
     },
     "execution_count": 71,
     "metadata": {},
     "output_type": "execute_result"
    }
   ],
   "source": [
    "txt = txt.split('\\n')[1:-1]\n",
    "txt"
   ]
  },
  {
   "cell_type": "code",
   "execution_count": 72,
   "id": "f8e1285b-448c-422a-b7e4-768925432a41",
   "metadata": {},
   "outputs": [],
   "source": [
    "def preprocess(txt):\n",
    "    for i in range(len(txt)):\n",
    "        txt[i] = txt[i].lower().strip()\n",
    "    return txt"
   ]
  },
  {
   "cell_type": "code",
   "execution_count": 73,
   "id": "8daeef46-6936-4396-8642-edbb61fcff84",
   "metadata": {},
   "outputs": [
    {
     "data": {
      "text/plain": [
       "['google and facebook are strangling the free press to death. democracy is the losergoogle an',\n",
       " \"your 60-second guide to security stuff google touted today at next '18\",\n",
       " 'a guide to using android without selling your soul to google',\n",
       " 'review: lenovo’s google smart display is pretty and intelligent',\n",
       " 'google maps user spots mysterious object submerged off the coast of greece - and no-one knows what it is',\n",
       " 'android is better than ios',\n",
       " 'in information retrieval, tf–idf or tfidf, short for term frequency–inverse document frequency',\n",
       " 'is a numerical statistic that is intended to reflect',\n",
       " 'how important a word is to a document in a collection or corpus.',\n",
       " 'it is often used as a weighting factor in searches of information retrieval',\n",
       " 'text mining, and user modeling. the tf-idf value increases proportionally',\n",
       " 'to the number of times a word appears in the document',\n",
       " 'and is offset by the frequency of the word in the corpus']"
      ]
     },
     "execution_count": 73,
     "metadata": {},
     "output_type": "execute_result"
    }
   ],
   "source": [
    "preprocess(txt)"
   ]
  },
  {
   "cell_type": "code",
   "execution_count": 77,
   "id": "3243dd82-0b65-4415-ba82-07d4c96bc689",
   "metadata": {},
   "outputs": [],
   "source": [
    "# nlp = spacy.load(\"en_core_web_sm\")\n",
    "# nlp.Defaults.stop_words.remove(\"not\")\n",
    "# nlp.vocab[\"not\"].is_stop = False\n",
    "def process(txt):\n",
    "    pro_txt = []\n",
    "    for i in range(len(txt)):\n",
    "        doc = nlp(txt[i])\n",
    "        l = []\n",
    "        for tok in doc:\n",
    "            if not (tok.is_punct or tok.is_stop or tok.is_space):\n",
    "                l.append(tok.lemma_)\n",
    "        pro_txt.append(\" \".join(l))\n",
    "    return pro_txt"
   ]
  },
  {
   "cell_type": "code",
   "execution_count": 79,
   "id": "1ce8a2b9-ed29-4941-bfe6-f5d41f92b353",
   "metadata": {},
   "outputs": [],
   "source": [
    "txt1 = process(txt)"
   ]
  },
  {
   "cell_type": "code",
   "execution_count": 80,
   "id": "464c4552-9d87-4b3c-9538-b3d96e8829d8",
   "metadata": {},
   "outputs": [],
   "source": [
    "tf_idf = TfidfVectorizer()\n",
    "tf_txt = tf_idf.fit_transform(txt1)"
   ]
  },
  {
   "cell_type": "code",
   "execution_count": 81,
   "id": "006f3d6e-0375-4529-af85-41b7f0a9e8f4",
   "metadata": {},
   "outputs": [
    {
     "name": "stderr",
     "output_type": "stream",
     "text": [
      "C:\\Users\\ELmohannd\\anaconda3\\envs\\tensorflow3\\lib\\site-packages\\joblib\\externals\\loky\\backend\\context.py:136: UserWarning: Could not find the number of physical cores for the following reason:\n",
      "found 0 physical cores < 1\n",
      "Returning the number of logical cores instead. You can silence this warning by setting LOKY_MAX_CPU_COUNT to the number of cores you want to use.\n",
      "  warnings.warn(\n",
      "  File \"C:\\Users\\ELmohannd\\anaconda3\\envs\\tensorflow3\\lib\\site-packages\\joblib\\externals\\loky\\backend\\context.py\", line 282, in _count_physical_cores\n",
      "    raise ValueError(f\"found {cpu_count_physical} physical cores < 1\")\n"
     ]
    }
   ],
   "source": [
    "kmeans = KMeans(n_clusters=2).fit(tf_txt)"
   ]
  },
  {
   "cell_type": "code",
   "execution_count": 82,
   "id": "5a70e353-6489-4d38-abea-50ef6e42f6ae",
   "metadata": {},
   "outputs": [
    {
     "data": {
      "text/plain": [
       "array([0, 1])"
      ]
     },
     "execution_count": 82,
     "metadata": {},
     "output_type": "execute_result"
    }
   ],
   "source": [
    "lines_for_predicting = [\"tf and idf is awesome!\", \"Selling Your Soul to Google\"]\n",
    "kmeans.predict(tf_idf.transform(lines_for_predicting))"
   ]
  }
 ],
 "metadata": {
  "kernelspec": {
   "display_name": "Python 3 (ipykernel)",
   "language": "python",
   "name": "python3"
  },
  "language_info": {
   "codemirror_mode": {
    "name": "ipython",
    "version": 3
   },
   "file_extension": ".py",
   "mimetype": "text/x-python",
   "name": "python",
   "nbconvert_exporter": "python",
   "pygments_lexer": "ipython3",
   "version": "3.9.18"
  }
 },
 "nbformat": 4,
 "nbformat_minor": 5
}
