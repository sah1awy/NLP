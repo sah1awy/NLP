{
 "cells": [
  {
   "cell_type": "code",
   "execution_count": 1,
   "id": "c0a3bb43-d42d-4a8d-aba9-e484f0702b04",
   "metadata": {},
   "outputs": [],
   "source": [
    "from sklearn.feature_extraction.text import TfidfVectorizer\n",
    "from sklearn.feature_extraction.text import CountVectorizer\n",
    "from sklearn.model_selection import train_test_split\n",
    "from sklearn.linear_model import LogisticRegression\n",
    "from sklearn.metrics import accuracy_score\n",
    "import numpy as np\n",
    "import pandas as pd\n",
    "import os , re"
   ]
  },
  {
   "cell_type": "code",
   "execution_count": 2,
   "id": "6af33927-fe37-4595-b405-243058c7df88",
   "metadata": {},
   "outputs": [],
   "source": [
    "train_txt = []\n",
    "test_txt = []\n",
    "for line in open(r\"movie_data/full_train.txt\",'r',encoding='utf-8'):\n",
    "    train_txt.append(line.strip())\n",
    "    \n",
    "for line in open(r\"movie_data/full_test.txt\",'r',encoding='utf-8'):\n",
    "    test_txt.append(line.strip())"
   ]
  },
  {
   "cell_type": "code",
   "execution_count": 3,
   "id": "f7db414a-a162-47d5-afae-5d388842e172",
   "metadata": {},
   "outputs": [
    {
     "data": {
      "text/plain": [
       "\"This isn't the comedic Robin Williams, nor is it the quirky/insane Robin Williams of recent thriller fame. This is a hybrid of the classic drama without over-dramatization, mixed with Robin's new love of the thriller. But this isn't a thriller, per se. This is more a mystery/suspense vehicle through which Williams attempts to locate a sick boy and his keeper.<br /><br />Also starring Sandra Oh and Rory Culkin, this Suspense Drama plays pretty much like a news report, until William's character gets close to achieving his goal.<br /><br />I must say that I was highly entertained, though this movie fails to teach, guide, inspect, or amuse. It felt more like I was watching a guy (Williams), as he was actually performing the actions, from a third person perspective. In other words, it felt real, and I was able to subscribe to the premise of the story.<br /><br />All in all, it's worth a watch, though it's definitely not Friday/Saturday night fare.<br /><br />It rates a 7.7/10 from...<br /><br />the Fiend :.\""
      ]
     },
     "execution_count": 3,
     "metadata": {},
     "output_type": "execute_result"
    }
   ],
   "source": [
    "train_txt[5]"
   ]
  },
  {
   "cell_type": "code",
   "execution_count": 9,
   "id": "3eab4edb-de6f-421c-8123-1222689ba952",
   "metadata": {},
   "outputs": [],
   "source": [
    "no_space = re.compile(\"(\\.)|(\\;)|(\\:)|(\\!)|(\\')|(\\?)|(\\,)|(\\\")|(\\()|(\\))|(\\[)|(\\])|(\\d+)\")\n",
    "space = re.compile(\"(<br\\s*/><br\\s*/>)|(\\-)|(\\/)\")\n",
    "rep1 = \"\"\n",
    "rep2 = \" \"\n",
    "def preprocess(txt):\n",
    "    txt = [no_space.sub(rep1,line.lower()) for line in txt]\n",
    "    txt = [space.sub(rep2,line.lower()) for line in txt]\n",
    "    return txt\n",
    "txt1 = preprocess(train_txt)\n",
    "txt2 = preprocess(test_txt)"
   ]
  },
  {
   "cell_type": "code",
   "execution_count": 10,
   "id": "cb582fdb-ba4a-421e-a2ac-bd944c448b74",
   "metadata": {},
   "outputs": [
    {
     "data": {
      "text/plain": [
       "'this isnt the comedic robin williams nor is it the quirky insane robin williams of recent thriller fame this is a hybrid of the classic drama without over dramatization mixed with robins new love of the thriller but this isnt a thriller per se this is more a mystery suspense vehicle through which williams attempts to locate a sick boy and his keeper also starring sandra oh and rory culkin this suspense drama plays pretty much like a news report until williams character gets close to achieving his goal i must say that i was highly entertained though this movie fails to teach guide inspect or amuse it felt more like i was watching a guy williams as he was actually performing the actions from a third person perspective in other words it felt real and i was able to subscribe to the premise of the story all in all its worth a watch though its definitely not friday saturday night fare it rates a   from the fiend '"
      ]
     },
     "execution_count": 10,
     "metadata": {},
     "output_type": "execute_result"
    }
   ],
   "source": [
    "txt1[5]"
   ]
  },
  {
   "cell_type": "code",
   "execution_count": 11,
   "id": "d0c4860c-06a5-4982-affb-67445008bfde",
   "metadata": {},
   "outputs": [],
   "source": [
    "cv = CountVectorizer(binary=True)\n",
    "x = cv.fit_transform(txt1)\n",
    "x_test = cv.transform(txt2)"
   ]
  },
  {
   "cell_type": "code",
   "execution_count": 12,
   "id": "23328230-c114-48ad-a954-59d027f59905",
   "metadata": {},
   "outputs": [
    {
     "data": {
      "text/plain": [
       "25000"
      ]
     },
     "execution_count": 12,
     "metadata": {},
     "output_type": "execute_result"
    }
   ],
   "source": [
    "len(train_txt)"
   ]
  },
  {
   "cell_type": "code",
   "execution_count": 13,
   "id": "167a7de0-c7ba-4604-900f-e492810945c2",
   "metadata": {},
   "outputs": [
    {
     "data": {
      "text/plain": [
       "25000"
      ]
     },
     "execution_count": 13,
     "metadata": {},
     "output_type": "execute_result"
    }
   ],
   "source": [
    "len(test_txt)"
   ]
  },
  {
   "cell_type": "code",
   "execution_count": 15,
   "id": "70d1428e-7083-487e-8393-f08846d0feac",
   "metadata": {},
   "outputs": [
    {
     "name": "stdout",
     "output_type": "stream",
     "text": [
      "Accuracy: 0.88272\n"
     ]
    }
   ],
   "source": [
    "target = [1 if i < 12500 else 0 for i in range(25000)]\n",
    "x_train,x_val,y_train,y_val = train_test_split(x,target,train_size=0.75)\n",
    "lg = LogisticRegression(C=0.05)\n",
    "lg.fit(x_train,y_train)\n",
    "print (\"Accuracy: %s\"% accuracy_score(y_val, lg.predict(x_val)))"
   ]
  },
  {
   "cell_type": "code",
   "execution_count": 16,
   "id": "d1bae521-8054-4282-8937-1bb901922a8e",
   "metadata": {},
   "outputs": [
    {
     "name": "stdout",
     "output_type": "stream",
     "text": [
      "Testing Accuracy: 0.87736\n"
     ]
    }
   ],
   "source": [
    "#testing the model\n",
    "pred = lg.predict(x_test)\n",
    "print(\"Testing Accuracy: %s\"%accuracy_score(target,pred))"
   ]
  },
  {
   "cell_type": "code",
   "execution_count": 18,
   "id": "db713908-f8f4-4480-b9ef-3b9526d78507",
   "metadata": {},
   "outputs": [
    {
     "data": {
      "text/plain": [
       "90860"
      ]
     },
     "execution_count": 18,
     "metadata": {},
     "output_type": "execute_result"
    }
   ],
   "source": [
    "len(cv.get_feature_names_out())"
   ]
  },
  {
   "cell_type": "code",
   "execution_count": 21,
   "id": "17683eb4-063a-443a-a2cd-68cf9861bfc2",
   "metadata": {},
   "outputs": [
    {
     "data": {
      "text/plain": [
       "array([[ 0.00217421,  0.04067065,  0.04095442, ...,  0.        ,\n",
       "        -0.02582428,  0.        ]])"
      ]
     },
     "execution_count": 21,
     "metadata": {},
     "output_type": "execute_result"
    }
   ],
   "source": [
    "lg.coef_"
   ]
  },
  {
   "cell_type": "code",
   "execution_count": 20,
   "id": "8368bfb1-bc24-4041-bf86-a73883b53f95",
   "metadata": {},
   "outputs": [
    {
     "data": {
      "text/plain": [
       "90860"
      ]
     },
     "execution_count": 20,
     "metadata": {},
     "output_type": "execute_result"
    }
   ],
   "source": [
    "len(lg.coef_[0])"
   ]
  },
  {
   "cell_type": "code",
   "execution_count": 36,
   "id": "acd9d536-23c6-4198-b558-55790986ea82",
   "metadata": {},
   "outputs": [
    {
     "data": {
      "text/plain": [
       "[('____', 0.002174208986482434),\n",
       " ('_____', 0.040670646368839214),\n",
       " ('______', 0.04095441603911098),\n",
       " ('_________', 0.020343455383756908),\n",
       " ('____________________________________', 0.0012403489512946737),\n",
       " ('_____________________________________', 0.0016680047112203847),\n",
       " ('__________________________________________________________________',\n",
       "  0.002417711716843723),\n",
       " ('____insert', -0.00014645247404851622),\n",
       " ('_a', -0.0011179064655898031),\n",
       " ('_absolute', -0.0002773147637089581)]"
      ]
     },
     "execution_count": 36,
     "metadata": {},
     "output_type": "execute_result"
    }
   ],
   "source": [
    "feat_coef = {word: coef for word, coef in zip(cv.get_feature_names_out(),lg.coef_[0])}\n",
    "list(feat_coef.items())[:10]"
   ]
  },
  {
   "cell_type": "code",
   "execution_count": 37,
   "id": "34ccec10-e4a2-4ca0-94c5-d664c8714d00",
   "metadata": {},
   "outputs": [
    {
     "name": "stdout",
     "output_type": "stream",
     "text": [
      "('excellent', 0.8681859530472555)\n",
      "('perfect', 0.7861310327384623)\n",
      "('great', 0.6779395373409677)\n",
      "('best', 0.5568852601563656)\n",
      "('superb', 0.5562969167207951)\n"
     ]
    }
   ],
   "source": [
    "for p in sorted(feat_coef.items(),key=lambda x: x[1],reverse=True)[:5]:\n",
    "    print(p)"
   ]
  },
  {
   "cell_type": "code",
   "execution_count": 38,
   "id": "b27f357a-a4ef-4042-8a30-a604abfaecdc",
   "metadata": {},
   "outputs": [
    {
     "name": "stdout",
     "output_type": "stream",
     "text": [
      "('worst', -1.3071219095225852)\n",
      "('waste', -1.0889922646271815)\n",
      "('awful', -1.0202642807458033)\n",
      "('boring', -0.7846388556537885)\n",
      "('poorly', -0.7204146634804687)\n"
     ]
    }
   ],
   "source": [
    "for p in sorted(feat_coef.items(),key=lambda x: x[1])[:5]:\n",
    "    print(p)"
   ]
  },
  {
   "cell_type": "code",
   "execution_count": 39,
   "id": "ec965db9-b0bc-4884-88ec-22eb533ff6de",
   "metadata": {},
   "outputs": [],
   "source": [
    "with open(\"SA Dict.txt\",'w',encoding='utf-8') as f:\n",
    "    for w,v in feat_coef.items():\n",
    "        f.write(f\"{w},{v}\\n\")"
   ]
  }
 ],
 "metadata": {
  "kernelspec": {
   "display_name": "Python 3 (ipykernel)",
   "language": "python",
   "name": "python3"
  },
  "language_info": {
   "codemirror_mode": {
    "name": "ipython",
    "version": 3
   },
   "file_extension": ".py",
   "mimetype": "text/x-python",
   "name": "python",
   "nbconvert_exporter": "python",
   "pygments_lexer": "ipython3",
   "version": "3.9.18"
  }
 },
 "nbformat": 4,
 "nbformat_minor": 5
}
