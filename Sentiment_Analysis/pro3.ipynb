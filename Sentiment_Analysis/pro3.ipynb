{
 "cells": [
  {
   "cell_type": "code",
   "execution_count": 3,
   "id": "5880a8d4-f881-447b-b2b4-a69624f37e60",
   "metadata": {},
   "outputs": [],
   "source": [
    "import nltk,re,string,random\n",
    "from nltk.tag import pos_tag\n",
    "from nltk.corpus import stopwords,twitter_samples\n",
    "from nltk.stem.wordnet import WordNetLemmatizer\n",
    "from nltk.tokenize import word_tokenize\n",
    "from nltk import FreqDist,classify,NaiveBayesClassifier"
   ]
  },
  {
   "cell_type": "code",
   "execution_count": 7,
   "id": "b930a2d6-2f1c-469d-acba-55fe26791a4d",
   "metadata": {},
   "outputs": [],
   "source": [
    "pos_tweets = twitter_samples.strings(\"positive_tweets.json\")\n",
    "neg_tweets = twitter_samples.strings(\"negative_tweets.json\")\n",
    "text = twitter_samples.strings('tweets.20150430-223406.json')\n",
    "tweet_tokens = twitter_samples.tokenized(\"positive_tweets.json\")"
   ]
  },
  {
   "cell_type": "code",
   "execution_count": 9,
   "id": "8c4db75c-9b46-4021-8e07-20f33bd2fb50",
   "metadata": {},
   "outputs": [
    {
     "data": {
      "text/plain": [
       "20000"
      ]
     },
     "execution_count": 9,
     "metadata": {},
     "output_type": "execute_result"
    }
   ],
   "source": [
    "len(text)"
   ]
  },
  {
   "cell_type": "code",
   "execution_count": 10,
   "id": "8885d456-d4d4-444d-877f-d3167e3ab74d",
   "metadata": {},
   "outputs": [
    {
     "data": {
      "text/plain": [
       "5000"
      ]
     },
     "execution_count": 10,
     "metadata": {},
     "output_type": "execute_result"
    }
   ],
   "source": [
    "len(pos_tweets)"
   ]
  },
  {
   "cell_type": "code",
   "execution_count": 11,
   "id": "1d12992e-92c0-46a8-9fc9-ac3d96425640",
   "metadata": {},
   "outputs": [
    {
     "name": "stdout",
     "output_type": "stream",
     "text": [
      "['#FollowFriday', '@France_Inte', '@PKuchly57', '@Milipol_Paris', 'for', 'being', 'top', 'engaged', 'members', 'in', 'my', 'community', 'this', 'week', ':)']\n"
     ]
    }
   ],
   "source": [
    "print(tweet_tokens[0])"
   ]
  },
  {
   "cell_type": "code",
   "execution_count": 12,
   "id": "1f436b85-0a37-4ac3-a990-fcd297f73ba6",
   "metadata": {},
   "outputs": [
    {
     "name": "stdout",
     "output_type": "stream",
     "text": [
      "[('#FollowFriday', 'JJ'), ('@France_Inte', 'NNP'), ('@PKuchly57', 'NNP'), ('@Milipol_Paris', 'NNP'), ('for', 'IN'), ('being', 'VBG'), ('top', 'JJ'), ('engaged', 'VBN'), ('members', 'NNS'), ('in', 'IN'), ('my', 'PRP$'), ('community', 'NN'), ('this', 'DT'), ('week', 'NN'), (':)', 'NN')]\n"
     ]
    }
   ],
   "source": [
    "print(pos_tag(tweet_tokens[0]))"
   ]
  },
  {
   "cell_type": "code",
   "execution_count": 15,
   "id": "cfe73db1-68a9-464f-b795-eeccc97d21c4",
   "metadata": {},
   "outputs": [
    {
     "name": "stdout",
     "output_type": "stream",
     "text": [
      "['#FollowFriday', '@France_Inte', '@PKuchly57', '@Milipol_Paris', 'for', 'be', 'top', 'engage', 'member', 'in', 'my', 'community', 'this', 'week', ':)']\n"
     ]
    }
   ],
   "source": [
    "def lemmatize(txt):\n",
    "    lemmatizer = WordNetLemmatizer()\n",
    "    lemmatized = []\n",
    "    for w,t in pos_tag(txt):\n",
    "        if t.startswith(\"NN\"):\n",
    "            pos = 'n'\n",
    "        elif t.startswith(\"VB\"):\n",
    "            pos = 'v'\n",
    "        else:\n",
    "            pos = 'a'\n",
    "\n",
    "        lemmatized.append(lemmatizer.lemmatize(w,pos))\n",
    "    return lemmatized\n",
    "\n",
    "print(lemmatize(tweet_tokens[0]))"
   ]
  },
  {
   "cell_type": "code",
   "execution_count": 36,
   "id": "487a75a8-dc5f-459b-a22d-33804a42412d",
   "metadata": {},
   "outputs": [],
   "source": [
    "def remove_noise(tweet_tokens,stop_words=()):\n",
    "    cleaned = []\n",
    "    for token,t in pos_tag(tweet_tokens):\n",
    "        token = re.sub(\"http[s]?://(?:[a-zA-Z]|[0-9]|[$-_@.&+#]|[!*\\(\\),]|(?:%[0-9a-fA-F][0-9a-fA-F]))+\",'',token)\n",
    "        token = re.sub(\"(@[A-Za-z0-9_]+)\",\"\",token)\n",
    "        if t == 'NN':\n",
    "            pos = 'n'\n",
    "        elif t == 'VB':\n",
    "            pos = 'v'\n",
    "        else:\n",
    "            pos = 'a'\n",
    "\n",
    "        lemmatizer = WordNetLemmatizer()\n",
    "        token = lemmatizer.lemmatize(token,pos)\n",
    "        if len(token)>0 and token not in string.punctuation and token.lower() not in stop_words:\n",
    "            cleaned.append(token.lower())\n",
    "    return cleaned"
   ]
  },
  {
   "cell_type": "code",
   "execution_count": 37,
   "id": "c1bba728-7b27-4765-bddb-8ac38031a267",
   "metadata": {},
   "outputs": [
    {
     "name": "stdout",
     "output_type": "stream",
     "text": [
      "['#followfriday', 'top', 'engaged', 'members', 'community', 'week', ':)']\n"
     ]
    }
   ],
   "source": [
    "stop_words = stopwords.words('english')\n",
    "print(remove_noise(tweet_tokens[0], stop_words))"
   ]
  },
  {
   "cell_type": "code",
   "execution_count": 16,
   "id": "94decbfc-213d-4330-8611-ca628db9602e",
   "metadata": {},
   "outputs": [],
   "source": [
    "s = \"https://www.libgen.is/search.php?req=mastry&lg_topic=libgen&open=0&view=simple&res=25&phrase=1&column=def\""
   ]
  },
  {
   "cell_type": "code",
   "execution_count": 28,
   "id": "ee4a8f1d-e4be-400c-87d7-e489e290a68f",
   "metadata": {},
   "outputs": [
    {
     "data": {
      "text/plain": [
       "['https://www.libgen.is/search.php?req=mastry&lg_topic=libgen&open=0&view=simple&res=25&phrase=1&column=def']"
      ]
     },
     "execution_count": 28,
     "metadata": {},
     "output_type": "execute_result"
    }
   ],
   "source": [
    "re.findall(\"http[s]://(?:[a-zA-Z]|[0-9]|[$-_@.&+#]|[!*\\(\\),]|(?:%[0-9a-fA-F][0-9a-fA-F]))+\",s)"
   ]
  },
  {
   "cell_type": "code",
   "execution_count": 38,
   "id": "327b8e76-f9cd-4cbc-811f-3b2d49966293",
   "metadata": {},
   "outputs": [],
   "source": [
    "pos_tokens = twitter_samples.tokenized('positive_tweets.json')\n",
    "neg_tokens = twitter_samples.tokenized('negative_tweets.json')\n",
    "pos_cleaned_tok = []\n",
    "neg_cleaned_tok = []\n",
    "for tokens in pos_tokens:\n",
    "    pos_cleaned_tok.append(remove_noise(tokens, stop_words))\n",
    "\n",
    "for tokens in neg_tokens:\n",
    "    neg_cleaned_tok.append(remove_noise(tokens, stop_words))"
   ]
  },
  {
   "cell_type": "code",
   "execution_count": 40,
   "id": "a2a1f3d1-96ed-4874-a5d8-34a81d476cc8",
   "metadata": {},
   "outputs": [
    {
     "name": "stdout",
     "output_type": "stream",
     "text": [
      "['Dang', 'that', 'is', 'some', 'rad', '@AbzuGame', '#fanart', '!', ':D', 'https://t.co/bI8k8tb9ht']\n",
      "['dang', 'rad', '#fanart', ':d']\n"
     ]
    }
   ],
   "source": [
    "print(pos_tokens[500])\n",
    "print(pos_cleaned_tok[500])"
   ]
  },
  {
   "cell_type": "code",
   "execution_count": 55,
   "id": "57d053d8-a63c-498a-9ec3-246cd986e68a",
   "metadata": {},
   "outputs": [],
   "source": [
    "def get_all_words(cleaned_tokens_list):\n",
    "    for tokens in cleaned_tokens_list:\n",
    "        for token in tokens:\n",
    "            yield token\n",
    "\n",
    "all_pos_words = get_all_words(pos_cleaned_tok)"
   ]
  },
  {
   "cell_type": "code",
   "execution_count": 56,
   "id": "5fe61f9d-b955-4ee2-a369-3aae7e799fdb",
   "metadata": {},
   "outputs": [
    {
     "name": "stdout",
     "output_type": "stream",
     "text": [
      "[(':)', 3691), (':-)', 701), (':d', 658), ('thanks', 391), ('follow', 304), ('...', 290), ('good', 283), ('love', 274), ('thank', 248), ('u', 245)]\n"
     ]
    }
   ],
   "source": [
    "freq_dist_pos = FreqDist(all_pos_words)\n",
    "print(freq_dist_pos.most_common(10))"
   ]
  },
  {
   "cell_type": "code",
   "execution_count": 57,
   "id": "f4bceea3-1321-4d5e-a3a2-e948b42f34c0",
   "metadata": {},
   "outputs": [],
   "source": [
    "def get_tweets_for_model(cleaned_tokens_list):\n",
    "    for tweet_tokens in cleaned_tokens_list:\n",
    "        yield dict([token, True] for token in tweet_tokens)\n",
    "\n",
    "positive_tokens_for_model = get_tweets_for_model(pos_cleaned_tok)\n",
    "negative_tokens_for_model = get_tweets_for_model(neg_cleaned_tok)"
   ]
  },
  {
   "cell_type": "code",
   "execution_count": 58,
   "id": "612b5a69-97e2-4e62-8715-840c73fe6c68",
   "metadata": {},
   "outputs": [],
   "source": [
    "import random\n",
    "\n",
    "positive_dataset = [(tweet_dict, \"Positive\")\n",
    "                     for tweet_dict in positive_tokens_for_model]\n",
    "\n",
    "negative_dataset = [(tweet_dict, \"Negative\")\n",
    "                     for tweet_dict in negative_tokens_for_model]\n",
    "\n",
    "dataset = positive_dataset + negative_dataset\n",
    "\n",
    "random.shuffle(dataset)\n",
    "\n",
    "train_data = dataset[:7000]\n",
    "test_data = dataset[7000:]"
   ]
  },
  {
   "cell_type": "code",
   "execution_count": 60,
   "id": "98e66a8f-9b0f-4b72-ba75-1c105a809e24",
   "metadata": {},
   "outputs": [
    {
     "name": "stdout",
     "output_type": "stream",
     "text": [
      "Accuracy is: 0.9943333333333333\n",
      "Most Informative Features\n",
      "                      :( = True           Negati : Positi =   2042.3 : 1.0\n",
      "                      :) = True           Positi : Negati =   1686.9 : 1.0\n",
      "                     sad = True           Negati : Positi =     33.2 : 1.0\n",
      "                    glad = True           Positi : Negati =     18.9 : 1.0\n",
      "                 missing = True           Negati : Positi =     17.1 : 1.0\n",
      "                   loves = True           Positi : Negati =     16.3 : 1.0\n",
      "                     x15 = True           Negati : Positi =     15.2 : 1.0\n",
      "                 arrived = True           Positi : Negati =     14.6 : 1.0\n",
      "                  missed = True           Negati : Positi =     13.9 : 1.0\n",
      "               community = True           Positi : Negati =     12.7 : 1.0\n",
      "None\n"
     ]
    }
   ],
   "source": [
    "classifier = NaiveBayesClassifier.train(train_data)\n",
    "\n",
    "print(\"Accuracy is:\", classify.accuracy(classifier, test_data))\n",
    "\n",
    "print(classifier.show_most_informative_features(10))"
   ]
  },
  {
   "cell_type": "code",
   "execution_count": 61,
   "id": "755cafd7-3ef6-41a0-91e5-c6aefc80baa6",
   "metadata": {},
   "outputs": [
    {
     "name": "stdout",
     "output_type": "stream",
     "text": [
      "Negative\n"
     ]
    }
   ],
   "source": [
    "custom_tweet = \"I ordered just once from TerribleCo, they screwed up, never used the app again.\"\n",
    "\n",
    "custom_tokens = remove_noise(word_tokenize(custom_tweet))\n",
    "\n",
    "print(classifier.classify(dict([token, True] for token in custom_tokens)))"
   ]
  },
  {
   "cell_type": "code",
   "execution_count": 62,
   "id": "4695aa26-3b67-4083-8bcd-e56ee0267eef",
   "metadata": {},
   "outputs": [
    {
     "name": "stdout",
     "output_type": "stream",
     "text": [
      "Positive\n"
     ]
    }
   ],
   "source": [
    "custom_tweet = 'Thank you for sending my baggage to CityX and flying me to CityY at the same time. Brilliant service. #thanksGenericAirline'\n",
    "custom_tokens = remove_noise(word_tokenize(custom_tweet))\n",
    "\n",
    "print(classifier.classify(dict([token, True] for token in custom_tokens)))"
   ]
  }
 ],
 "metadata": {
  "kernelspec": {
   "display_name": "Python 3 (ipykernel)",
   "language": "python",
   "name": "python3"
  },
  "language_info": {
   "codemirror_mode": {
    "name": "ipython",
    "version": 3
   },
   "file_extension": ".py",
   "mimetype": "text/x-python",
   "name": "python",
   "nbconvert_exporter": "python",
   "pygments_lexer": "ipython3",
   "version": "3.9.18"
  }
 },
 "nbformat": 4,
 "nbformat_minor": 5
}
