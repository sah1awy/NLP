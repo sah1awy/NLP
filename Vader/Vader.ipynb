{
 "cells": [
  {
   "cell_type": "code",
   "execution_count": 21,
   "id": "f884240d-6348-4db2-9f8d-bbbf0b40f1a0",
   "metadata": {},
   "outputs": [],
   "source": [
    "import nltk\n",
    "from nltk.sentiment.vader import SentimentIntensityAnalyzer\n",
    "import pandas as pd\n",
    "import numpy as np\n",
    "from sklearn.metrics import classification_report,confusion_matrix,accuracy_score"
   ]
  },
  {
   "cell_type": "code",
   "execution_count": 3,
   "id": "b6b810e0-f9dc-4fda-93e2-4256538ce47d",
   "metadata": {},
   "outputs": [
    {
     "data": {
      "text/html": [
       "<div>\n",
       "<style scoped>\n",
       "    .dataframe tbody tr th:only-of-type {\n",
       "        vertical-align: middle;\n",
       "    }\n",
       "\n",
       "    .dataframe tbody tr th {\n",
       "        vertical-align: top;\n",
       "    }\n",
       "\n",
       "    .dataframe thead th {\n",
       "        text-align: right;\n",
       "    }\n",
       "</style>\n",
       "<table border=\"1\" class=\"dataframe\">\n",
       "  <thead>\n",
       "    <tr style=\"text-align: right;\">\n",
       "      <th></th>\n",
       "      <th>label</th>\n",
       "      <th>review</th>\n",
       "    </tr>\n",
       "  </thead>\n",
       "  <tbody>\n",
       "    <tr>\n",
       "      <th>0</th>\n",
       "      <td>pos</td>\n",
       "      <td>Stuning even for the non-gamer: This sound tra...</td>\n",
       "    </tr>\n",
       "    <tr>\n",
       "      <th>1</th>\n",
       "      <td>pos</td>\n",
       "      <td>The best soundtrack ever to anything.: I'm rea...</td>\n",
       "    </tr>\n",
       "    <tr>\n",
       "      <th>2</th>\n",
       "      <td>pos</td>\n",
       "      <td>Amazing!: This soundtrack is my favorite music...</td>\n",
       "    </tr>\n",
       "    <tr>\n",
       "      <th>3</th>\n",
       "      <td>pos</td>\n",
       "      <td>Excellent Soundtrack: I truly like this soundt...</td>\n",
       "    </tr>\n",
       "    <tr>\n",
       "      <th>4</th>\n",
       "      <td>pos</td>\n",
       "      <td>Remember, Pull Your Jaw Off The Floor After He...</td>\n",
       "    </tr>\n",
       "  </tbody>\n",
       "</table>\n",
       "</div>"
      ],
      "text/plain": [
       "  label                                             review\n",
       "0   pos  Stuning even for the non-gamer: This sound tra...\n",
       "1   pos  The best soundtrack ever to anything.: I'm rea...\n",
       "2   pos  Amazing!: This soundtrack is my favorite music...\n",
       "3   pos  Excellent Soundtrack: I truly like this soundt...\n",
       "4   pos  Remember, Pull Your Jaw Off The Floor After He..."
      ]
     },
     "execution_count": 3,
     "metadata": {},
     "output_type": "execute_result"
    }
   ],
   "source": [
    "df = pd.read_csv(\"amazonreviews.tsv\",sep='\\t')\n",
    "df.head()"
   ]
  },
  {
   "cell_type": "code",
   "execution_count": 4,
   "id": "fc10ccfd-d5d3-4601-9b0a-751de3ea57eb",
   "metadata": {},
   "outputs": [
    {
     "data": {
      "text/plain": [
       "label\n",
       "neg    5097\n",
       "pos    4903\n",
       "Name: count, dtype: int64"
      ]
     },
     "execution_count": 4,
     "metadata": {},
     "output_type": "execute_result"
    }
   ],
   "source": [
    "df.label.value_counts()"
   ]
  },
  {
   "cell_type": "code",
   "execution_count": 5,
   "id": "c4607405-965f-497a-b138-ec261ca2cf3a",
   "metadata": {},
   "outputs": [
    {
     "data": {
      "text/plain": [
       "label     0\n",
       "review    0\n",
       "dtype: int64"
      ]
     },
     "execution_count": 5,
     "metadata": {},
     "output_type": "execute_result"
    }
   ],
   "source": [
    "df.isna().sum()"
   ]
  },
  {
   "cell_type": "code",
   "execution_count": 6,
   "id": "574827ee-18be-4b44-88f9-8e5c519b6c29",
   "metadata": {},
   "outputs": [
    {
     "name": "stdout",
     "output_type": "stream",
     "text": [
      "<class 'pandas.core.frame.DataFrame'>\n",
      "RangeIndex: 10000 entries, 0 to 9999\n",
      "Data columns (total 2 columns):\n",
      " #   Column  Non-Null Count  Dtype \n",
      "---  ------  --------------  ----- \n",
      " 0   label   10000 non-null  object\n",
      " 1   review  10000 non-null  object\n",
      "dtypes: object(2)\n",
      "memory usage: 156.4+ KB\n"
     ]
    }
   ],
   "source": [
    "df.info()"
   ]
  },
  {
   "cell_type": "code",
   "execution_count": 7,
   "id": "bdccbe13-45af-44ae-a2f7-d9c19d3227fc",
   "metadata": {},
   "outputs": [
    {
     "data": {
      "text/html": [
       "<div>\n",
       "<style scoped>\n",
       "    .dataframe tbody tr th:only-of-type {\n",
       "        vertical-align: middle;\n",
       "    }\n",
       "\n",
       "    .dataframe tbody tr th {\n",
       "        vertical-align: top;\n",
       "    }\n",
       "\n",
       "    .dataframe thead th {\n",
       "        text-align: right;\n",
       "    }\n",
       "</style>\n",
       "<table border=\"1\" class=\"dataframe\">\n",
       "  <thead>\n",
       "    <tr style=\"text-align: right;\">\n",
       "      <th></th>\n",
       "      <th>label</th>\n",
       "      <th>review</th>\n",
       "    </tr>\n",
       "  </thead>\n",
       "  <tbody>\n",
       "    <tr>\n",
       "      <th>count</th>\n",
       "      <td>10000</td>\n",
       "      <td>10000</td>\n",
       "    </tr>\n",
       "    <tr>\n",
       "      <th>unique</th>\n",
       "      <td>2</td>\n",
       "      <td>10000</td>\n",
       "    </tr>\n",
       "    <tr>\n",
       "      <th>top</th>\n",
       "      <td>neg</td>\n",
       "      <td>Stuning even for the non-gamer: This sound tra...</td>\n",
       "    </tr>\n",
       "    <tr>\n",
       "      <th>freq</th>\n",
       "      <td>5097</td>\n",
       "      <td>1</td>\n",
       "    </tr>\n",
       "  </tbody>\n",
       "</table>\n",
       "</div>"
      ],
      "text/plain": [
       "        label                                             review\n",
       "count   10000                                              10000\n",
       "unique      2                                              10000\n",
       "top       neg  Stuning even for the non-gamer: This sound tra...\n",
       "freq     5097                                                  1"
      ]
     },
     "execution_count": 7,
     "metadata": {},
     "output_type": "execute_result"
    }
   ],
   "source": [
    "df.describe()"
   ]
  },
  {
   "cell_type": "code",
   "execution_count": 8,
   "id": "51dd649a-8a81-4542-b85d-6e5fc4e69a3b",
   "metadata": {},
   "outputs": [
    {
     "data": {
      "text/plain": [
       "(10000, 2)"
      ]
     },
     "execution_count": 8,
     "metadata": {},
     "output_type": "execute_result"
    }
   ],
   "source": [
    "df.shape"
   ]
  },
  {
   "cell_type": "code",
   "execution_count": 9,
   "id": "8caf286b-a0bb-41bf-b0c5-5f0a11b3db4e",
   "metadata": {},
   "outputs": [
    {
     "data": {
      "text/plain": [
       "RangeIndex(start=0, stop=10000, step=1)"
      ]
     },
     "execution_count": 9,
     "metadata": {},
     "output_type": "execute_result"
    }
   ],
   "source": [
    "df.index"
   ]
  },
  {
   "cell_type": "code",
   "execution_count": 10,
   "id": "ec341cb4-e195-4a74-a14b-dabf163e49f7",
   "metadata": {},
   "outputs": [
    {
     "data": {
      "text/plain": [
       "Index(['label', 'review'], dtype='object')"
      ]
     },
     "execution_count": 10,
     "metadata": {},
     "output_type": "execute_result"
    }
   ],
   "source": [
    "df.columns"
   ]
  },
  {
   "cell_type": "code",
   "execution_count": 11,
   "id": "f1dc8c93-27fe-4b33-ac8e-20924f461315",
   "metadata": {},
   "outputs": [],
   "source": [
    "sia = SentimentIntensityAnalyzer()"
   ]
  },
  {
   "cell_type": "code",
   "execution_count": 13,
   "id": "7afb1283-8983-48b5-9fb8-13060d20313f",
   "metadata": {},
   "outputs": [
    {
     "name": "stdout",
     "output_type": "stream",
     "text": [
      "The Worst!: A complete waste of time. Typographical errors, poor grammar, and a totally pathetic plot add up to absolutely nothing. I'm embarrassed for this author and very disappointed I actually paid for this book.\n",
      "\n",
      "{'neg': 0.36, 'neu': 0.586, 'pos': 0.054, 'compound': -0.9274}\n",
      "\n",
      "neg\n",
      "----------------------------------------------------------------------\n",
      "Great book: This was a great book,I just could not put it down,and could not read it fast enough. Boy what a book the twist and turns in this just keeps you guessing and wanting to know what is going to happen next. This book makes you fall in love and can heat you up,it can also make you so angery. this book can make you go throu several of your emotions. This is a quick read romance. It is something that you will want to end your day off with if you read at night.\n",
      "\n",
      "{'neg': 0.0, 'neu': 0.836, 'pos': 0.164, 'compound': 0.9538}\n",
      "\n",
      "pos\n",
      "----------------------------------------------------------------------\n",
      "Great Read: I thought this book was brilliant, but yet realistic. It showed me that to error is human. I loved the fact that this writer showed the loving side of God and not the revengeful side of him. I loved how it twisted and turned and I could not put it down. I also loved The glass castle.\n",
      "\n",
      "{'neg': 0.044, 'neu': 0.554, 'pos': 0.402, 'compound': 0.985}\n",
      "\n",
      "pos\n",
      "----------------------------------------------------------------------\n",
      "Oh please: I guess you have to be a romance novel lover for this one, and not a very discerning one. All others beware! It is absolute drivel. I figured I was in trouble when a typo is prominently featured on the back cover, but the first page of the book removed all doubt. Wait - maybe I'm missing the point. A quick re-read of the beginning now makes it clear. This has to be an intentional churning of over-heated prose for satiric purposes. Phew, so glad I didn't waste $10.95 after all.\n",
      "\n",
      "{'neg': 0.077, 'neu': 0.723, 'pos': 0.199, 'compound': 0.9097}\n",
      "\n",
      "neg\n",
      "----------------------------------------------------------------------\n",
      "Awful beyond belief!: I feel I have to write to keep others from wasting their money. This book seems to have been written by a 7th grader with poor grammatical skills for her age! As another reviewer points out, there is a misspelling on the cover, and I believe there is at least one per chapter. For example, it was mentioned twice that she had a \"lean\" on her house. I was so distracted by the poor writing and weak plot, that I decided to read with a pencil in hand to mark all of the horrible grammar and spelling. Please don't waste your money. I too, believe that the good reviews must have been written by the author's relatives. I will not put much faith in the reviews from now on!\n",
      "\n",
      "{'neg': 0.171, 'neu': 0.755, 'pos': 0.074, 'compound': -0.9312}\n",
      "\n",
      "neg\n",
      "----------------------------------------------------------------------\n",
      "Don't try to fool us with fake reviews.: It's glaringly obvious that all of the glowing reviews have been written by the same person, perhaps the author herself. They all have the same misspellings and poor sentence structure that is featured in the book. Who made Veronica Haddon think she is an author?\n",
      "\n",
      "{'neg': 0.105, 'neu': 0.832, 'pos': 0.063, 'compound': -0.5414}\n",
      "\n",
      "neg\n",
      "----------------------------------------------------------------------\n",
      "A romantic zen baseball comedy: When you hear folks say that they don't make 'em like that anymore, they might be talking about \"BY THE SEA\". This is a very cool story about a young Cuban girl searching for idenity who stumbles into a coastal resort kitchen gig with a zen motorcycle maintenance man, three hysterical Italian chefs and a Latino fireballing right handed pitcher who plays on the team sponsored by the resort's owner. As is often the case she 'finds' herself through honest, often comical but always emotional, interaction with this sizzling roster of players. With the perfect mix of special effects, that salsa sound and flashbacks, BY THE SEA, gets 4 BIG stars from me!\n",
      "\n",
      "{'neg': 0.021, 'neu': 0.818, 'pos': 0.161, 'compound': 0.9454}\n",
      "\n",
      "pos\n",
      "----------------------------------------------------------------------\n",
      "Fashionable Compression Stockings!: After I had a DVT my doctor required me to wear compression stockings. I wore ugly white TED hose and yucky thick brown stockings. Then I found Jobst UltraSheer. They gave me the compression I needed (15-20,) but looked like regular pantyhose. Even though my blood clot has been gone for 4 years, I still buy these to wear as support stockings because they make my legs feel so nice.**Note, I have problems with the rubberized tops rolling down my thigh. I tried the Jobst adhesive, but I hated having my skin pulled all day. I bought an inexpensive garter belt and it works fine and helps keep the stockings from rolling.\n",
      "\n",
      "{'neg': 0.11, 'neu': 0.754, 'pos': 0.136, 'compound': 0.5182}\n",
      "\n",
      "pos\n",
      "----------------------------------------------------------------------\n",
      "Jobst UltraSheer Thigh High: Excellent product. However, they are very difficult to get on for older people. I feel like I've had a full day workout after getting them on. Also, as the day wears on, they begin to roll down from the top and create a very deep ridge in the skin. I have to wear them, so if those two difficulties could be addressed it would be such a help.\n",
      "\n",
      "{'neg': 0.064, 'neu': 0.771, 'pos': 0.165, 'compound': 0.7787}\n",
      "\n",
      "pos\n",
      "----------------------------------------------------------------------\n",
      "sizes recomended in the size chart are not real: sizes are much smaller than what is recomended in the chart. I tried to put it and sheer it!. I guess you should not buy this item in the internet..it is better to go to the store and check it\n",
      "\n",
      "{'neg': 0.0, 'neu': 0.935, 'pos': 0.065, 'compound': 0.4926}\n",
      "\n",
      "neg\n",
      "----------------------------------------------------------------------\n",
      "mens ultrasheer: This model may be ok for sedentary types, but I'm active and get around alot in my job - consistently found these stockings rolled up down by my ankles! Not Good!! Solution: go with the standard compression stocking, 20-30, stock #114622. Excellent support, stays up and gives me what I need. Both pair of these also tore as I struggled to pull them up all the time. Good riddance/bad investment!\n",
      "\n",
      "{'neg': 0.134, 'neu': 0.696, 'pos': 0.17, 'compound': 0.6318}\n",
      "\n",
      "neg\n",
      "----------------------------------------------------------------------\n",
      "Delicious cookie mix: I thought it was funny that I bought this product without knowing it was a mix. I read the header very quickly and just thought it was packaged cookies. But no, it is cookie MIX and I guess I should have noticed that since it is right in the title.This is the first time I have ever tried baking with a cookie mix. If you are used to the convenience of the cookie dough that you buy wrapped up in plastic logs then you might be in for a bit of a surprise. Mixing up the dough can get VERY messy (it is extremely sticky). However, with a cookie mix like this you have a lot of flexibility in the ratio of ingredients (I like to add some extra butter to make the baked cookies more chewy). Also, this mix has really large chocolate chips in it--I love that.I removed a star for the addition of 'natural flavors' in the mix.\n",
      "\n",
      "{'neg': 0.044, 'neu': 0.809, 'pos': 0.147, 'compound': 0.9517}\n",
      "\n",
      "pos\n",
      "----------------------------------------------------------------------\n",
      "Another Abysmal Digital Copy: Rather than scratches and insect droppings, this one has random pixelations combined with muddy light and vague image resolution. Probably the cue should have been the packaging is straight out of your street corner bootleg dealer.If you've ever seen a reasonably good condition film copy, you know the defining visuals of his film are the crystal clear lighting contrasts in black and white. The surrounding countryside and 'old home' scenes are set with early morning ground mists or the haze of memory while the events on the bridge and in the water are bright, clear, and immediate.Here everything is dull, dark, and clouded. Or, if you remember the timbre and enunciation of Captain's commands, so are the visuals.After that, it is hard to believe this award winning, critically acclaimed film's best presentation is on YOUTUBE. Somewhere \"out there\" is a DVD that comes up to the standard of a 16mm public library reel.Just none of them appear to be on Amazon.\n",
      "\n",
      "{'neg': 0.037, 'neu': 0.819, 'pos': 0.145, 'compound': 0.9667}\n",
      "\n",
      "neg\n",
      "----------------------------------------------------------------------\n",
      "A fascinating insight into the life of modern Japanese teens: I thoroughly enjoyed Rising Sons and Daughters. I don't know of any other book that looks at Japanese society from the point of view of its young people poised as they are between their parents' age-old Japanese culture of restraint and obedience to the will of the community, and their peers' adulation of Western culture. True to form, the \"New Young\" of Japan seem to be creating an \"international\" blend, as the Ando family demonstrates in this beautifully written book of vignettes of the private lives of members of this family. Steven Wardell is clearly a talented young author, adopted for some of his schooling into this family of four teens, and thus able to view family life in Japan from the inside out. A great read!\n",
      "\n",
      "{'neg': 0.0, 'neu': 0.81, 'pos': 0.19, 'compound': 0.9815}\n",
      "\n",
      "pos\n",
      "----------------------------------------------------------------------\n",
      "i liked this album more then i thought i would: I heard a song or two and thought same o same o,but when i listened to songs like \"blue angel\",\"lanna\" and 'mama\" the hair just rose off my neck.Roy is trully an amazing singer with a talent you don't find much now days.\n",
      "\n",
      "{'neg': 0.0, 'neu': 0.775, 'pos': 0.225, 'compound': 0.8979}\n",
      "\n",
      "pos\n",
      "----------------------------------------------------------------------\n",
      "Problem with charging smaller AAAs: I have had the charger for more than two years. It charges AA batteries just fine, but has a huge problem securing smaller AAA batteries. To charge the smaller batteries you need to flip down the little button at the positive end. In the beginning one of the four AAA batteries would pop up, and now three out of the four won't hold. The problem is the flip mechanism became loose, and any horizontal pressure would push the buttons back up. What I have to do now is using duct tape and a segment of crayon, apply the crayon on the buttons, and wrap the tape around. You know how painful that is.\n",
      "\n",
      "{'neg': 0.149, 'neu': 0.761, 'pos': 0.09, 'compound': -0.7845}\n",
      "\n",
      "neg\n",
      "----------------------------------------------------------------------\n"
     ]
    }
   ],
   "source": [
    "for i in range(10,26):\n",
    "    print(df.loc[i,\"review\"])\n",
    "    print()\n",
    "    print(sia.polarity_scores(df.loc[i,\"review\"]))\n",
    "    print()\n",
    "    print(df.loc[i,\"label\"])\n",
    "    print(\"-\"*70)"
   ]
  },
  {
   "cell_type": "code",
   "execution_count": 14,
   "id": "b77a3e45-b61f-4112-80f5-6fce843afb26",
   "metadata": {},
   "outputs": [],
   "source": [
    "df[\"scores\"] = df[\"review\"].apply(lambda txt: sia.polarity_scores(txt))"
   ]
  },
  {
   "cell_type": "code",
   "execution_count": 15,
   "id": "57d5bd8c-98b4-4677-a871-aacf3598de4b",
   "metadata": {},
   "outputs": [
    {
     "data": {
      "text/html": [
       "<div>\n",
       "<style scoped>\n",
       "    .dataframe tbody tr th:only-of-type {\n",
       "        vertical-align: middle;\n",
       "    }\n",
       "\n",
       "    .dataframe tbody tr th {\n",
       "        vertical-align: top;\n",
       "    }\n",
       "\n",
       "    .dataframe thead th {\n",
       "        text-align: right;\n",
       "    }\n",
       "</style>\n",
       "<table border=\"1\" class=\"dataframe\">\n",
       "  <thead>\n",
       "    <tr style=\"text-align: right;\">\n",
       "      <th></th>\n",
       "      <th>label</th>\n",
       "      <th>review</th>\n",
       "      <th>scores</th>\n",
       "    </tr>\n",
       "  </thead>\n",
       "  <tbody>\n",
       "    <tr>\n",
       "      <th>0</th>\n",
       "      <td>pos</td>\n",
       "      <td>Stuning even for the non-gamer: This sound tra...</td>\n",
       "      <td>{'neg': 0.088, 'neu': 0.669, 'pos': 0.243, 'co...</td>\n",
       "    </tr>\n",
       "    <tr>\n",
       "      <th>1</th>\n",
       "      <td>pos</td>\n",
       "      <td>The best soundtrack ever to anything.: I'm rea...</td>\n",
       "      <td>{'neg': 0.018, 'neu': 0.837, 'pos': 0.145, 'co...</td>\n",
       "    </tr>\n",
       "    <tr>\n",
       "      <th>2</th>\n",
       "      <td>pos</td>\n",
       "      <td>Amazing!: This soundtrack is my favorite music...</td>\n",
       "      <td>{'neg': 0.04, 'neu': 0.692, 'pos': 0.268, 'com...</td>\n",
       "    </tr>\n",
       "    <tr>\n",
       "      <th>3</th>\n",
       "      <td>pos</td>\n",
       "      <td>Excellent Soundtrack: I truly like this soundt...</td>\n",
       "      <td>{'neg': 0.09, 'neu': 0.615, 'pos': 0.295, 'com...</td>\n",
       "    </tr>\n",
       "    <tr>\n",
       "      <th>4</th>\n",
       "      <td>pos</td>\n",
       "      <td>Remember, Pull Your Jaw Off The Floor After He...</td>\n",
       "      <td>{'neg': 0.0, 'neu': 0.746, 'pos': 0.254, 'comp...</td>\n",
       "    </tr>\n",
       "  </tbody>\n",
       "</table>\n",
       "</div>"
      ],
      "text/plain": [
       "  label                                             review  \\\n",
       "0   pos  Stuning even for the non-gamer: This sound tra...   \n",
       "1   pos  The best soundtrack ever to anything.: I'm rea...   \n",
       "2   pos  Amazing!: This soundtrack is my favorite music...   \n",
       "3   pos  Excellent Soundtrack: I truly like this soundt...   \n",
       "4   pos  Remember, Pull Your Jaw Off The Floor After He...   \n",
       "\n",
       "                                              scores  \n",
       "0  {'neg': 0.088, 'neu': 0.669, 'pos': 0.243, 'co...  \n",
       "1  {'neg': 0.018, 'neu': 0.837, 'pos': 0.145, 'co...  \n",
       "2  {'neg': 0.04, 'neu': 0.692, 'pos': 0.268, 'com...  \n",
       "3  {'neg': 0.09, 'neu': 0.615, 'pos': 0.295, 'com...  \n",
       "4  {'neg': 0.0, 'neu': 0.746, 'pos': 0.254, 'comp...  "
      ]
     },
     "execution_count": 15,
     "metadata": {},
     "output_type": "execute_result"
    }
   ],
   "source": [
    "df.head()"
   ]
  },
  {
   "cell_type": "code",
   "execution_count": 16,
   "id": "4feb91f4-de84-4929-9bf4-bae493467191",
   "metadata": {},
   "outputs": [],
   "source": [
    "df[\"com\"] = df[\"scores\"].apply(lambda x: x[\"compound\"])"
   ]
  },
  {
   "cell_type": "code",
   "execution_count": 18,
   "id": "0beab5ae-e982-4ba5-9e13-af6c5d817e34",
   "metadata": {},
   "outputs": [],
   "source": [
    "df[\"com_label\"] = df[\"com\"].apply(lambda x: \"pos\" if x >= 0 else \"neg\")"
   ]
  },
  {
   "cell_type": "code",
   "execution_count": 20,
   "id": "2ffbe1ff-9d02-4a66-95c5-dbf187c33683",
   "metadata": {},
   "outputs": [
    {
     "data": {
      "text/plain": [
       "array([[2629, 2468],\n",
       "       [ 435, 4468]], dtype=int64)"
      ]
     },
     "execution_count": 20,
     "metadata": {},
     "output_type": "execute_result"
    }
   ],
   "source": [
    "cm = confusion_matrix(df[\"label\"],df[\"com_label\"])\n",
    "cm"
   ]
  },
  {
   "cell_type": "code",
   "execution_count": 24,
   "id": "e2689c71-ef87-4ff6-a75a-6a1df39c374b",
   "metadata": {},
   "outputs": [
    {
     "data": {
      "text/plain": [
       "0.7097"
      ]
     },
     "execution_count": 24,
     "metadata": {},
     "output_type": "execute_result"
    }
   ],
   "source": [
    "accuracy_score(df[\"label\"],df[\"com_label\"])"
   ]
  },
  {
   "cell_type": "code",
   "execution_count": 25,
   "id": "ef9c018a-8beb-4fcd-b1ec-fc0d3ecaa94a",
   "metadata": {},
   "outputs": [
    {
     "name": "stdout",
     "output_type": "stream",
     "text": [
      "              precision    recall  f1-score   support\n",
      "\n",
      "         neg       0.86      0.52      0.64      5097\n",
      "         pos       0.64      0.91      0.75      4903\n",
      "\n",
      "    accuracy                           0.71     10000\n",
      "   macro avg       0.75      0.71      0.70     10000\n",
      "weighted avg       0.75      0.71      0.70     10000\n",
      "\n"
     ]
    }
   ],
   "source": [
    "print(classification_report(df[\"label\"],df[\"com_label\"]))"
   ]
  }
 ],
 "metadata": {
  "kernelspec": {
   "display_name": "Python 3 (ipykernel)",
   "language": "python",
   "name": "python3"
  },
  "language_info": {
   "codemirror_mode": {
    "name": "ipython",
    "version": 3
   },
   "file_extension": ".py",
   "mimetype": "text/x-python",
   "name": "python",
   "nbconvert_exporter": "python",
   "pygments_lexer": "ipython3",
   "version": "3.9.18"
  }
 },
 "nbformat": 4,
 "nbformat_minor": 5
}
