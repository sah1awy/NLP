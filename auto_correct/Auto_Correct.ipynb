{
 "cells": [
  {
   "cell_type": "code",
   "execution_count": 1,
   "id": "8360f81f-8728-4ba8-89f1-7d35c0a12ccd",
   "metadata": {},
   "outputs": [
    {
     "name": "stdout",
     "output_type": "stream",
     "text": [
      "Collecting autocorrect\n",
      "  Downloading autocorrect-2.6.1.tar.gz (622 kB)\n",
      "     ---------------------------------------- 0.0/622.8 kB ? eta -:--:--\n",
      "     - ------------------------------------- 30.7/622.8 kB 1.3 MB/s eta 0:00:01\n",
      "     --- --------------------------------- 61.4/622.8 kB 648.1 kB/s eta 0:00:01\n",
      "     -------- --------------------------- 143.4/622.8 kB 944.1 kB/s eta 0:00:01\n",
      "     -------------- ----------------------- 245.8/622.8 kB 1.4 MB/s eta 0:00:01\n",
      "     -------------------------- ----------- 440.3/622.8 kB 1.8 MB/s eta 0:00:01\n",
      "     -------------------------------------  614.4/622.8 kB 2.1 MB/s eta 0:00:01\n",
      "     -------------------------------------- 622.8/622.8 kB 1.9 MB/s eta 0:00:00\n",
      "  Preparing metadata (setup.py): started\n",
      "  Preparing metadata (setup.py): finished with status 'done'\n",
      "Building wheels for collected packages: autocorrect\n",
      "  Building wheel for autocorrect (setup.py): started\n",
      "  Building wheel for autocorrect (setup.py): finished with status 'done'\n",
      "  Created wheel for autocorrect: filename=autocorrect-2.6.1-py3-none-any.whl size=622375 sha256=87b28267713ed0ebe496af2303eefd44dfa5d2ae2b0177410631958c4838b8ff\n",
      "  Stored in directory: c:\\users\\elmohannd\\appdata\\local\\pip\\cache\\wheels\\ab\\0f\\23\\3c010c3fd877b962146e7765f9e9b08026cac8b035094c5750\n",
      "Successfully built autocorrect\n",
      "Installing collected packages: autocorrect\n",
      "Successfully installed autocorrect-2.6.1\n",
      "Note: you may need to restart the kernel to use updated packages.\n"
     ]
    }
   ],
   "source": [
    "pip install autocorrect"
   ]
  },
  {
   "cell_type": "code",
   "execution_count": 2,
   "id": "7e7e0257-e595-42ad-8ccc-1039140505b4",
   "metadata": {},
   "outputs": [
    {
     "name": "stdout",
     "output_type": "stream",
     "text": [
      "Collecting pyspellchecker\n",
      "  Downloading pyspellchecker-0.8.1-py3-none-any.whl.metadata (9.4 kB)\n",
      "Downloading pyspellchecker-0.8.1-py3-none-any.whl (6.8 MB)\n",
      "   ---------------------------------------- 0.0/6.8 MB ? eta -:--:--\n",
      "   ---------------------------------------- 0.0/6.8 MB 1.3 MB/s eta 0:00:06\n",
      "   ---------------------------------------- 0.0/6.8 MB 1.3 MB/s eta 0:00:06\n",
      "   ---------------------------------------- 0.1/6.8 MB 544.7 kB/s eta 0:00:13\n",
      "    --------------------------------------- 0.1/6.8 MB 726.2 kB/s eta 0:00:10\n",
      "    --------------------------------------- 0.2/6.8 MB 762.6 kB/s eta 0:00:09\n",
      "   - -------------------------------------- 0.2/6.8 MB 958.6 kB/s eta 0:00:07\n",
      "   - -------------------------------------- 0.3/6.8 MB 1.1 MB/s eta 0:00:07\n",
      "   -- ------------------------------------- 0.4/6.8 MB 1.1 MB/s eta 0:00:06\n",
      "   --- ------------------------------------ 0.6/6.8 MB 1.5 MB/s eta 0:00:05\n",
      "   --- ------------------------------------ 0.7/6.8 MB 1.6 MB/s eta 0:00:04\n",
      "   ----- ---------------------------------- 0.8/6.8 MB 1.8 MB/s eta 0:00:04\n",
      "   ------ --------------------------------- 1.0/6.8 MB 2.0 MB/s eta 0:00:03\n",
      "   ------ --------------------------------- 1.2/6.8 MB 2.1 MB/s eta 0:00:03\n",
      "   ------- -------------------------------- 1.4/6.8 MB 2.3 MB/s eta 0:00:03\n",
      "   --------- ------------------------------ 1.5/6.8 MB 2.4 MB/s eta 0:00:03\n",
      "   ---------- ----------------------------- 1.7/6.8 MB 2.5 MB/s eta 0:00:03\n",
      "   ----------- ---------------------------- 1.9/6.8 MB 2.6 MB/s eta 0:00:02\n",
      "   ----------- ---------------------------- 1.9/6.8 MB 2.6 MB/s eta 0:00:02\n",
      "   ----------- ---------------------------- 1.9/6.8 MB 2.6 MB/s eta 0:00:02\n",
      "   ----------- ---------------------------- 1.9/6.8 MB 2.6 MB/s eta 0:00:02\n",
      "   ----------- ---------------------------- 1.9/6.8 MB 2.6 MB/s eta 0:00:02\n",
      "   ---------------- ----------------------- 2.8/6.8 MB 2.9 MB/s eta 0:00:02\n",
      "   ----------------- ---------------------- 2.9/6.8 MB 2.9 MB/s eta 0:00:02\n",
      "   ------------------ --------------------- 3.1/6.8 MB 2.9 MB/s eta 0:00:02\n",
      "   ------------------ --------------------- 3.2/6.8 MB 2.9 MB/s eta 0:00:02\n",
      "   ------------------ --------------------- 3.2/6.8 MB 2.9 MB/s eta 0:00:02\n",
      "   ------------------ --------------------- 3.2/6.8 MB 2.9 MB/s eta 0:00:02\n",
      "   ------------------- -------------------- 3.3/6.8 MB 2.7 MB/s eta 0:00:02\n",
      "   -------------------- ------------------- 3.5/6.8 MB 2.8 MB/s eta 0:00:02\n",
      "   --------------------- ------------------ 3.6/6.8 MB 2.7 MB/s eta 0:00:02\n",
      "   ---------------------- ----------------- 3.8/6.8 MB 2.9 MB/s eta 0:00:02\n",
      "   ------------------------ --------------- 4.2/6.8 MB 3.0 MB/s eta 0:00:01\n",
      "   ------------------------- -------------- 4.4/6.8 MB 3.0 MB/s eta 0:00:01\n",
      "   -------------------------- ------------- 4.5/6.8 MB 3.0 MB/s eta 0:00:01\n",
      "   --------------------------- ------------ 4.6/6.8 MB 3.0 MB/s eta 0:00:01\n",
      "   --------------------------- ------------ 4.7/6.8 MB 3.0 MB/s eta 0:00:01\n",
      "   ---------------------------- ----------- 4.9/6.8 MB 3.0 MB/s eta 0:00:01\n",
      "   ----------------------------- ---------- 5.0/6.8 MB 3.0 MB/s eta 0:00:01\n",
      "   ------------------------------ --------- 5.1/6.8 MB 3.0 MB/s eta 0:00:01\n",
      "   ------------------------------ --------- 5.2/6.8 MB 3.0 MB/s eta 0:00:01\n",
      "   ------------------------------- -------- 5.3/6.8 MB 3.0 MB/s eta 0:00:01\n",
      "   -------------------------------- ------- 5.5/6.8 MB 3.0 MB/s eta 0:00:01\n",
      "   -------------------------------- ------- 5.6/6.8 MB 3.0 MB/s eta 0:00:01\n",
      "   --------------------------------- ------ 5.7/6.8 MB 3.0 MB/s eta 0:00:01\n",
      "   ---------------------------------- ----- 5.9/6.8 MB 3.0 MB/s eta 0:00:01\n",
      "   ----------------------------------- ---- 6.0/6.8 MB 3.0 MB/s eta 0:00:01\n",
      "   ------------------------------------ --- 6.2/6.8 MB 3.0 MB/s eta 0:00:01\n",
      "   ------------------------------------- -- 6.3/6.8 MB 3.0 MB/s eta 0:00:01\n",
      "   ------------------------------------- -- 6.4/6.8 MB 3.0 MB/s eta 0:00:01\n",
      "   -------------------------------------- - 6.6/6.8 MB 3.0 MB/s eta 0:00:01\n",
      "   ---------------------------------------  6.7/6.8 MB 3.0 MB/s eta 0:00:01\n",
      "   ---------------------------------------  6.8/6.8 MB 3.0 MB/s eta 0:00:01\n",
      "   ---------------------------------------  6.8/6.8 MB 3.0 MB/s eta 0:00:01\n",
      "   ---------------------------------------  6.8/6.8 MB 3.0 MB/s eta 0:00:01\n",
      "   ---------------------------------------- 6.8/6.8 MB 2.9 MB/s eta 0:00:00\n",
      "Installing collected packages: pyspellchecker\n",
      "Successfully installed pyspellchecker-0.8.1\n",
      "Note: you may need to restart the kernel to use updated packages.\n"
     ]
    }
   ],
   "source": [
    "pip install pyspellchecker"
   ]
  },
  {
   "cell_type": "code",
   "execution_count": 4,
   "id": "3a09fe0a-0620-4ffe-ab27-26012bcd1c59",
   "metadata": {},
   "outputs": [
    {
     "name": "stdout",
     "output_type": "stream",
     "text": [
      "Collecting textblob\n",
      "  Downloading textblob-0.18.0.post0-py3-none-any.whl.metadata (4.5 kB)\n",
      "Requirement already satisfied: nltk>=3.8 in c:\\users\\elmohannd\\anaconda3\\envs\\tensorflow3\\lib\\site-packages (from textblob) (3.8.1)\n",
      "Requirement already satisfied: click in c:\\users\\elmohannd\\anaconda3\\envs\\tensorflow3\\lib\\site-packages (from nltk>=3.8->textblob) (8.1.7)\n",
      "Requirement already satisfied: joblib in c:\\users\\elmohannd\\anaconda3\\envs\\tensorflow3\\lib\\site-packages (from nltk>=3.8->textblob) (1.3.2)\n",
      "Requirement already satisfied: regex>=2021.8.3 in c:\\users\\elmohannd\\anaconda3\\envs\\tensorflow3\\lib\\site-packages (from nltk>=3.8->textblob) (2023.10.3)\n",
      "Requirement already satisfied: tqdm in c:\\users\\elmohannd\\anaconda3\\envs\\tensorflow3\\lib\\site-packages (from nltk>=3.8->textblob) (4.66.2)\n",
      "Requirement already satisfied: colorama in c:\\users\\elmohannd\\anaconda3\\envs\\tensorflow3\\lib\\site-packages (from click->nltk>=3.8->textblob) (0.4.6)\n",
      "Downloading textblob-0.18.0.post0-py3-none-any.whl (626 kB)\n",
      "   ---------------------------------------- 0.0/626.3 kB ? eta -:--:--\n",
      "   - -------------------------------------- 30.7/626.3 kB 1.3 MB/s eta 0:00:01\n",
      "   -- ------------------------------------ 41.0/626.3 kB 487.6 kB/s eta 0:00:02\n",
      "   ------- -------------------------------- 112.6/626.3 kB 1.1 MB/s eta 0:00:01\n",
      "   -------------- ------------------------- 225.3/626.3 kB 1.4 MB/s eta 0:00:01\n",
      "   -------------------- ------------------- 317.4/626.3 kB 1.5 MB/s eta 0:00:01\n",
      "   ------------------------------ --------- 471.0/626.3 kB 1.8 MB/s eta 0:00:01\n",
      "   ---------------------------------------  624.6/626.3 kB 2.2 MB/s eta 0:00:01\n",
      "   ---------------------------------------- 626.3/626.3 kB 2.0 MB/s eta 0:00:00\n",
      "Installing collected packages: textblob\n",
      "Successfully installed textblob-0.18.0.post0\n",
      "Note: you may need to restart the kernel to use updated packages.\n"
     ]
    }
   ],
   "source": [
    "pip install textblob"
   ]
  },
  {
   "cell_type": "code",
   "execution_count": 5,
   "id": "a36e4c8e-473d-422a-b678-00f2232c7ad2",
   "metadata": {},
   "outputs": [
    {
     "data": {
      "text/plain": [
       "\"I'm not sleepy and there is no place I'm going to\""
      ]
     },
     "execution_count": 5,
     "metadata": {},
     "output_type": "execute_result"
    }
   ],
   "source": [
    "from autocorrect import Speller\n",
    "spell = Speller(lang='en')\n",
    "spell(\"I'm not sleapy and tehre is no place I'm giong to\")"
   ]
  },
  {
   "cell_type": "code",
   "execution_count": 6,
   "id": "47dbdf68-2afe-48a2-a287-8af75425e504",
   "metadata": {},
   "outputs": [
    {
     "data": {
      "text/plain": [
       "'there'"
      ]
     },
     "execution_count": 6,
     "metadata": {},
     "output_type": "execute_result"
    }
   ],
   "source": [
    "spell(\"tehere\")"
   ]
  },
  {
   "cell_type": "code",
   "execution_count": 9,
   "id": "a9040190-e34b-4c12-90cd-44b4cf36cdb8",
   "metadata": {},
   "outputs": [],
   "source": [
    "from spellchecker import SpellChecker\n",
    "spell = SpellChecker()"
   ]
  },
  {
   "cell_type": "code",
   "execution_count": 10,
   "id": "ebf3dedf-cd5c-4b39-adce-011705b8039b",
   "metadata": {},
   "outputs": [
    {
     "data": {
      "text/plain": [
       "'address'"
      ]
     },
     "execution_count": 10,
     "metadata": {},
     "output_type": "execute_result"
    }
   ],
   "source": [
    "spell.correction(\"Addresz\")"
   ]
  },
  {
   "cell_type": "code",
   "execution_count": 11,
   "id": "fd7fa03d-96c9-46bd-be32-7309d4071676",
   "metadata": {},
   "outputs": [
    {
     "data": {
      "text/plain": [
       "{'aquire', 'dilema'}"
      ]
     },
     "execution_count": 11,
     "metadata": {},
     "output_type": "execute_result"
    }
   ],
   "source": [
    "# Spell Checker is used only only for a single word\n",
    "spell.unknown([\"dilema\", \"column\", \"aquire\"])"
   ]
  },
  {
   "cell_type": "code",
   "execution_count": 13,
   "id": "1f6f9724-5a81-48b7-89ea-1516271f5383",
   "metadata": {},
   "outputs": [
    {
     "data": {
      "text/plain": [
       "'acquire'"
      ]
     },
     "execution_count": 13,
     "metadata": {},
     "output_type": "execute_result"
    }
   ],
   "source": [
    "spell.correction(\"aquire\")"
   ]
  },
  {
   "cell_type": "code",
   "execution_count": 14,
   "id": "e1dfd62f-e622-41ae-a200-2114d1f43a57",
   "metadata": {},
   "outputs": [
    {
     "data": {
      "text/plain": [
       "{'acquire', 'quire', 'squire'}"
      ]
     },
     "execution_count": 14,
     "metadata": {},
     "output_type": "execute_result"
    }
   ],
   "source": [
    "spell.candidates(\"aquire\")"
   ]
  },
  {
   "cell_type": "code",
   "execution_count": 15,
   "id": "ca48dfd9-8e50-4311-bf01-24d9e83cbf6b",
   "metadata": {},
   "outputs": [
    {
     "data": {
      "text/plain": [
       "{'mead', 'meal', 'mean', 'meat'}"
      ]
     },
     "execution_count": 15,
     "metadata": {},
     "output_type": "execute_result"
    }
   ],
   "source": [
    "spell.candidates(\"meaj\")"
   ]
  },
  {
   "cell_type": "code",
   "execution_count": 17,
   "id": "3256b8f2-6fc3-4acd-ab82-36a36216d808",
   "metadata": {},
   "outputs": [
    {
     "data": {
      "text/plain": [
       "[('perceive', 1.0)]"
      ]
     },
     "execution_count": 17,
     "metadata": {},
     "output_type": "execute_result"
    }
   ],
   "source": [
    "from textblob import Word\n",
    "w = Word(\"percieve\")\n",
    "w.spellcheck()"
   ]
  },
  {
   "cell_type": "code",
   "execution_count": 19,
   "id": "382de5db-cc09-4d04-8760-699d270d883e",
   "metadata": {},
   "outputs": [
    {
     "data": {
      "text/plain": [
       "[('personal', 0.65),\n",
       " ('personally', 0.2642857142857143),\n",
       " ('peroneal', 0.06428571428571428),\n",
       " ('personnel', 0.014285714285714285),\n",
       " ('personen', 0.007142857142857143)]"
      ]
     },
     "execution_count": 19,
     "metadata": {},
     "output_type": "execute_result"
    }
   ],
   "source": [
    "w = Word(\"personell\")\n",
    "w.spellcheck()"
   ]
  },
  {
   "cell_type": "code",
   "execution_count": null,
   "id": "b8189089-d707-4567-bbdf-3ab8717e1077",
   "metadata": {},
   "outputs": [],
   "source": []
  }
 ],
 "metadata": {
  "kernelspec": {
   "display_name": "Python 3 (ipykernel)",
   "language": "python",
   "name": "python3"
  },
  "language_info": {
   "codemirror_mode": {
    "name": "ipython",
    "version": 3
   },
   "file_extension": ".py",
   "mimetype": "text/x-python",
   "name": "python",
   "nbconvert_exporter": "python",
   "pygments_lexer": "ipython3",
   "version": "3.9.18"
  }
 },
 "nbformat": 4,
 "nbformat_minor": 5
}
